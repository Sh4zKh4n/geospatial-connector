{
 "cells": [
  {
   "cell_type": "markdown",
   "metadata": {},
   "source": [
    "## Extracting and Mapping Place Names\n",
    "*last updated 01-10-2017*\n",
    "\n",
    "### Introduction\n",
    "This notebook demonstrates the power of and problems with automated geoparsing. **Geoparsing** is a term used for two related tasks:\n",
    "1. **[NER: named entity recognition](https://en.wikipedia.org/wiki/Named-entity_recognition)**, the automatic extraction of named terms from a text documents, with the focus on place names and locations.\n",
    "2. **[Geocoding](https://en.wikipedia.org/wiki/Geocoding)**, the process of determining the geographic coordinates for place names, codes and street addresses.\n",
    "\n",
    "Why geoparse? One reason might be to determine all locations that are mentioned in a text. Another might be to determine only the most important locations, which might be indicated by how often they are mentioned or where they are mentioned, e.g., in a title or chapter heading. The output of geoparsing can be used to answer all types of questions, like 'What was the geographic evolution of the use of the term *dude*?\n",
    "\n",
    "NER and geocoding are complex computational tasks that are beyond the scope of this notebook. Instead, this notebook aims to get you thinking about the complexity and richness of place names and the value of coordinate representations of places, both of which make geoparasing so important.\n",
    "\n",
    "\n",
    "#### In this notebook we:\n",
    "1. Fetch the text of the [Project Gutenberg](http://www.gutenberg.org) ebook ['Around the World in 80 Days' by Jules Verne](http://www.gutenberg.org/cache/epub/103/pg103.txt).\n",
    "2. Extract place name references from that text using the [NLTK](http://www.nltk.org) package \n",
    "3. Geocode the place names with [Geopy](https://geopy.readthedocs.io/en/1.10.0/) package and the [Google V3 Geocoding API ](https://developers.google.com/maps/documentation/geocoding/intro)\n",
    "4. Map the named place locations with the maps module of the [datascience](https://github.com/data-8/datascience) package.\n",
    "\n",
    "#### Learning goals:\n",
    "- Think about the differences in place name vs. coordinate representations of locations.\n",
    "- Experience the power and challenges of automated place name extraction.\n",
    "- Consider some of the things you can do with the place names once they are geocoded.\n",
    "\n",
    "#### Caveats:\n",
    "- This notebook presents a very simple approach to geoparsing using the NLTK. Most references suggest geoparsing with the [Stanford NER (Named Entity Recognizer)](http://nlp.stanford.edu/software/CRF-NER.shtml) extension to NLTK.\n",
    "<hr/>\n",
    "\n",
    "### Step 1. Load needed Python Libraries.\n",
    "\n",
    "- Note: press the **shift-return** keys to execute the code in a cell. You can also select **Cell > Run Cells and Select Below** from the menu."
   ]
  },
  {
   "cell_type": "code",
   "execution_count": null,
   "metadata": {
    "collapsed": true
   },
   "outputs": [],
   "source": [
    "# HIDDEN - run but do not change\n",
    "from datascience import *\n",
    "from datascience.predicates import are\n",
    "import numpy as np\n",
    "\n",
    "import matplotlib\n",
    "matplotlib.use('Agg', warn=False)\n",
    "%matplotlib inline\n",
    "import matplotlib.pyplot as plots\n",
    "plots.style.use('fivethirtyeight')\n",
    "\n",
    "import warnings\n",
    "warnings.simplefilter(action=\"ignore\", category=FutureWarning)\n",
    "\n",
    "from urllib.request import urlopen \n",
    "import re\n",
    "def read_url(url): \n",
    "    return re.sub('\\\\s+', ' ', urlopen(url).read().decode())"
   ]
  },
  {
   "cell_type": "code",
   "execution_count": null,
   "metadata": {
    "collapsed": true
   },
   "outputs": [],
   "source": [
    "# Run but don't change these libraries which are specific to this notebook\n",
    "\n",
    "from scipy import stats\n",
    "from scipy import misc\n",
    "\n",
    "from nltk import ne_chunk, pos_tag, word_tokenize\n",
    "from nltk.tree import Tree\n",
    "\n",
    "from itertools import groupby\n",
    "\n",
    "from geopy.geocoders import *"
   ]
  },
  {
   "cell_type": "markdown",
   "metadata": {},
   "source": [
    "### Step 2. Create a function to extract locations from text\n",
    "\n",
    "The Natural Languate Toolkit is one of the leading Python packages for processing human language data. Our language processing task is to **geoparse** the text to extract all place name references. This is task known as NER - named entity recognition. But instead of caring about all named entities, we only want locations.  The type of named entities that we can parse with NLTK are:\n",
    "\n",
    "- `FACLILTY`\n",
    "- `GPE` (or geo-political entity)\n",
    "- `GSP` (or geo-socio-political group)\n",
    "- `LOCATION`\n",
    "- `ORGANIZATION`\n",
    "- `PERSON`\n",
    "\n",
    "To do this, we create a function, here called **get_placename_chunks** which locates named entities in the text. The function returns a Python list of all of the chunks coded, or tagged, as `GPE`.  \n",
    "\n"
   ]
  },
  {
   "cell_type": "code",
   "execution_count": null,
   "metadata": {
    "collapsed": true
   },
   "outputs": [],
   "source": [
    "def get_placename_chunks(text, debug_level=0):\n",
    "    # NLTK NER location (GPE) parsing function\n",
    "    # After: http://stackoverflow.com/questions/31836058/nltk-named-entity-recognition-to-a-python-list\n",
    "    \n",
    "    chunked = ne_chunk(pos_tag(word_tokenize(text)))\n",
    "    if debug_level == 2: print(chunked) \n",
    "    prev = None\n",
    "    continuous_chunk = []\n",
    "    current_chunk = []\n",
    "    for i in chunked:\n",
    "        # This next line gets us the locations only\n",
    "        # if type(i) == Tree and (str(i).find('GPE') >=0): # GPE is Geo-Political Entity\n",
    "        if type(i) == Tree and (str(i).find('GPE') >=0) and (str(i).find('NNP') >=0): #GPE is Geo-Political Entity  \n",
    "            if debug_level == 1: print(i)\n",
    "            current_chunk.append(\" \".join([token for token, pos in i.leaves()]))\n",
    "            if debug_level == 1 : print(\"......\", current_chunk)\n",
    "        elif current_chunk:\n",
    "            named_entity = \" \".join(current_chunk)\n",
    "            continuous_chunk.append(named_entity)\n",
    "            current_chunk = []\n",
    "        else:\n",
    "            continue\n",
    "    return continuous_chunk"
   ]
  },
  {
   "cell_type": "markdown",
   "metadata": {},
   "source": [
    "Now we create some text to test the function before we apply it to our book."
   ]
  },
  {
   "cell_type": "code",
   "execution_count": null,
   "metadata": {
    "collapsed": false
   },
   "outputs": [],
   "source": [
    "# Some text with place names for testing\n",
    "## source: http://stackoverflow.com/questions/31836058/nltk-named-entity-recognition-to-a-python-list\n",
    "my_text = '''Washington -- In the wake of a string of abuses by New York police officers in the 1990s, \n",
    "    Loretta E. Lynch the top federal prosecutor in Brooklyn, spoke forcefully about the pain of a broken \n",
    "    trust that African-Americans felt and said the responsibility for repairing generations of miscommunication \n",
    "    and mistrust fell to law enforcement. Similar feelings were reported in Washington.'''\n",
    "\n",
    "\n",
    "\n"
   ]
  },
  {
   "cell_type": "markdown",
   "metadata": {},
   "source": [
    "Test the **get_placename_chunks** function on the test data."
   ]
  },
  {
   "cell_type": "code",
   "execution_count": null,
   "metadata": {
    "collapsed": false
   },
   "outputs": [],
   "source": [
    "my_locs = get_placename_chunks(my_text)\n",
    "my_locs"
   ]
  },
  {
   "cell_type": "markdown",
   "metadata": {},
   "source": [
    "If you want to explore the NER process more throughly you can try setting some function arguments to print out the processing details. You will then see the chunks that are labeled as named entities (NNP) of type geo-political (GPE).\n"
   ]
  },
  {
   "cell_type": "code",
   "execution_count": null,
   "metadata": {
    "collapsed": false
   },
   "outputs": [],
   "source": [
    "my_locs = get_placename_chunks(my_text,2)"
   ]
  },
  {
   "cell_type": "markdown",
   "metadata": {},
   "source": [
    "Now that we have the list of place names, we count the number of time each place was mentioned. "
   ]
  },
  {
   "cell_type": "code",
   "execution_count": null,
   "metadata": {
    "collapsed": false
   },
   "outputs": [],
   "source": [
    "loc_count =  [(k, len(list(g))) for k, g in groupby(sorted(my_locs))]\n",
    "print(loc_count)\n",
    "\n"
   ]
  },
  {
   "cell_type": "markdown",
   "metadata": {},
   "source": [
    "The `loc_count` object is a list of place name - count pairs (or tuples). We can use the **zip** function to extract these values into separate lists that are in the same order - one for place names and one for the counts.  This will come in handy."
   ]
  },
  {
   "cell_type": "code",
   "execution_count": null,
   "metadata": {
    "collapsed": false
   },
   "outputs": [],
   "source": [
    "# What does this zip function do?\n",
    "(a,b) = zip(*loc_count) # this returns two tuples that can then be columns in tables\n",
    "print(a)\n",
    "print(b)"
   ]
  },
  {
   "cell_type": "markdown",
   "metadata": {},
   "source": [
    "### Geocoding\n",
    "\n",
    "Geocoding is the process of determining the geographic coordinates for named places, zip codes, or street addresses. Geocoding will allow us to map these locations.\n",
    "\n",
    "To do this we need to compare our place names with a database of places and geometric representations of these places. We will use the **geocoders** module of the **Geopy** package to do this. Geopy.geocoders provides access to several different geocoding tools, the most popular of which is the **Google Geocoding API**."
   ]
  },
  {
   "cell_type": "code",
   "execution_count": null,
   "metadata": {
    "collapsed": false
   },
   "outputs": [],
   "source": [
    "# Define a Geopy.geocoder \n",
    "gloc = GoogleV3()"
   ]
  },
  {
   "cell_type": "code",
   "execution_count": null,
   "metadata": {
    "collapsed": false
   },
   "outputs": [],
   "source": [
    "# Test the geocoder on a place name and view the output\n",
    "geocoded_place = gloc.geocode('Berkeley, CA')\n",
    "geocoded_place\n"
   ]
  },
  {
   "cell_type": "markdown",
   "metadata": {},
   "source": [
    "The `gloc.geocode` method returns a `Location` object. By entering **geocoded_place** we see the basic out put of the geocoder. To see the full output you need to reference the Locations raw output as **geocoded_place.raw**, as shown below. This is a Python dictionary from which you can return any of the elements."
   ]
  },
  {
   "cell_type": "code",
   "execution_count": null,
   "metadata": {
    "collapsed": false
   },
   "outputs": [],
   "source": [
    "# Full geocoder output\n",
    "print(geocoded_place.raw)"
   ]
  },
  {
   "cell_type": "markdown",
   "metadata": {},
   "source": [
    "You can also use the Location object's methods to retrieve the geocoded address, latitude, and longitude, among other elements."
   ]
  },
  {
   "cell_type": "code",
   "execution_count": null,
   "metadata": {
    "collapsed": false
   },
   "outputs": [],
   "source": [
    "print(geocoded_place.address, '[Longitude: ', geocoded_place.longitude, ', Latitude: ', geocoded_place.latitude,']')"
   ]
  },
  {
   "cell_type": "markdown",
   "metadata": {},
   "source": [
    "### Extracting Place Names from our Text Document\n",
    "\n",
    "We now have the functions we will need to extract place names from our ebook, **Around the World in 80 Days**."
   ]
  },
  {
   "cell_type": "code",
   "execution_count": null,
   "metadata": {
    "collapsed": false
   },
   "outputs": [],
   "source": [
    "# Read in a text to Geoparse\n",
    " \n",
    "## Downloaded from Project Gutenberg\n",
    "## http://www.gutenberg.org/cache/epub/103/pg103.txt\n",
    "text_url = 'https://raw.githubusercontent.com/data-8/geospatial-connector/gh-pages/data/around_world_80days.txt' \n",
    "the_text = read_url(text_url)\n"
   ]
  },
  {
   "cell_type": "code",
   "execution_count": null,
   "metadata": {
    "collapsed": false
   },
   "outputs": [],
   "source": [
    "# Take a look\n",
    "print(the_text[:1000])"
   ]
  },
  {
   "cell_type": "markdown",
   "metadata": {},
   "source": [
    "We can see from what prints above that we have the text of our book loaded into the variable `the_text`. Now we can extract place names."
   ]
  },
  {
   "cell_type": "code",
   "execution_count": null,
   "metadata": {
    "collapsed": false
   },
   "outputs": [],
   "source": [
    "# this can take a few minutes...\n",
    "text_locs = get_placename_chunks(the_text)"
   ]
  },
  {
   "cell_type": "code",
   "execution_count": null,
   "metadata": {
    "collapsed": false
   },
   "outputs": [],
   "source": [
    "# Let's take a look at the the extracted place names - first 10\n",
    "text_locs[:10]"
   ]
  },
  {
   "cell_type": "code",
   "execution_count": null,
   "metadata": {
    "collapsed": true
   },
   "outputs": [],
   "source": [
    "# Sort the locations and count the number of times each were referenced\n",
    "loc_count =  [(k, len(list(g))) for k, g in groupby(sorted(text_locs))]"
   ]
  },
  {
   "cell_type": "code",
   "execution_count": null,
   "metadata": {
    "collapsed": false
   },
   "outputs": [],
   "source": [
    "# and take a look at first ten - alpha order\n",
    "loc_count[:10]"
   ]
  },
  {
   "cell_type": "markdown",
   "metadata": {},
   "source": [
    "### Datascience Table\n",
    "\n",
    "Now that we have retrieved the place names and the counts we can start organizing that information in a **Datascience Table**."
   ]
  },
  {
   "cell_type": "code",
   "execution_count": null,
   "metadata": {
    "collapsed": false
   },
   "outputs": [],
   "source": [
    "# Create an empty table for our locations\n",
    "loc_table = Table.empty(['place','count'])\n",
    "loc_table"
   ]
  },
  {
   "cell_type": "code",
   "execution_count": null,
   "metadata": {
    "collapsed": true
   },
   "outputs": [],
   "source": [
    "# Put the location data into the table\n",
    "(loc_table['place'], loc_table['count']) = zip(*loc_count)"
   ]
  },
  {
   "cell_type": "code",
   "execution_count": null,
   "metadata": {
    "collapsed": false
   },
   "outputs": [],
   "source": [
    "# Take a look at the table\n",
    "print('Number of places with more than 5 references: ', loc_table.num_rows)\n",
    "loc_table.show()"
   ]
  },
  {
   "cell_type": "markdown",
   "metadata": {},
   "source": [
    "We can see from the table above that:\n",
    "1. many place names were extracted - 224, \n",
    "2. most of these have only 1 reference, and\n",
    "3. some of them are not even place names, like `Brigham Young`\n",
    "\n",
    "Let's try to weed this down to the most important places. To figure out a good cutoff, let's look at the histogram."
   ]
  },
  {
   "cell_type": "code",
   "execution_count": null,
   "metadata": {
    "collapsed": false
   },
   "outputs": [],
   "source": [
    "loc_table.hist('count')"
   ]
  },
  {
   "cell_type": "markdown",
   "metadata": {},
   "source": [
    "The histogram tells us that most of the place names have fewer than 5 references. So let's limit our table to those places more than 5 counts."
   ]
  },
  {
   "cell_type": "code",
   "execution_count": null,
   "metadata": {
    "collapsed": false
   },
   "outputs": [],
   "source": [
    "# Optional and arbitrary - remove minor mentions\n",
    "top_locs = loc_table.where(loc_table['count'] > 5)\n",
    "print('Number of places with more than 5 references: ', top_locs.num_rows)\n",
    "top_locs.sort('count', descending=True).show()"
   ]
  },
  {
   "cell_type": "markdown",
   "metadata": {},
   "source": [
    "The new table of important places only has 35 names places, down from 224. That's a big improvement in terms of narrowing our focus. But we can see in this table that there are still a lot of terms that we wouldn't consider places. Can you name a few and why?\n",
    "\n",
    "Let's try to remove these types of locations from our table. We should use **regular expressions** for this type of operation but that's a more advanced topic. So, for now we will just remove rows from the table that contain terms we are not interested in. This is just an example of how one might move forward with geoparsing - first figure out what you want to do and then figure out how to code and automate that thinking."
   ]
  },
  {
   "cell_type": "code",
   "execution_count": null,
   "metadata": {
    "collapsed": false
   },
   "outputs": [],
   "source": [
    "# remove rows with place names ending in \"an\", \"ans\", \"ish\", \"ese\", and \"French\" \n",
    "top_locs = top_locs.where((top_locs['place'] !=('Frenchman')) & (top_locs['place'] !=('American')))\n",
    "top_locs = top_locs.where((top_locs['place'] !=('British')) & (top_locs['place'] !=('English')))\n",
    "top_locs = top_locs.where((top_locs['place'] !=('French')) & (top_locs['place'] !=('American')))\n",
    "top_locs = top_locs.where((top_locs['place'] !=('Chinese')) & (top_locs['place'] !=('Portuguese')))\n",
    "top_locs = top_locs.where((top_locs['place'] !=('Indian')) & (top_locs['place'] !=('Indians')))\n",
    "top_locs = top_locs.where((top_locs['place'] !=('Japanese')) & (top_locs['place'] !=('Mexican')))\n",
    "top_locs = top_locs.where((top_locs['place'] !=('Europe')))\n",
    "top_locs = top_locs.where((top_locs['place'] !=('San')))\n",
    "\n",
    "# Remove \"Passepartout\" and 'Aouda'\n",
    "top_locs = top_locs.where((top_locs['place'] !=('Passepartout'))  & (top_locs['place'] !=('Aouda')))\n"
   ]
  },
  {
   "cell_type": "code",
   "execution_count": null,
   "metadata": {
    "collapsed": false
   },
   "outputs": [],
   "source": [
    "print('Number of places with more than 5 references: ', top_locs.num_rows)\n",
    "top_locs.sort('count', descending=True).show()"
   ]
  },
  {
   "cell_type": "markdown",
   "metadata": {},
   "source": [
    "### Geocoding, part II\n",
    "\n",
    "We now have a pretty good list of place names to geocode. Let's create a function to go through the table and geocode each row. This function will return the formatted address, longitude, latitude, and place type of the matched location."
   ]
  },
  {
   "cell_type": "code",
   "execution_count": null,
   "metadata": {
    "collapsed": true
   },
   "outputs": [],
   "source": [
    "# A function to geocode the places one by one and \n",
    "# return output that will load nicely into our table\n",
    "def getGeocodeInfo(place):\n",
    "    print('geocoding...', place)\n",
    "    x = gloc.geocode(place)\n",
    "    if(x != None):\n",
    "        mylat = float(x.raw['geometry']['location']['lat'])\n",
    "        mylng= float(x.raw['geometry']['location']['lng'])\n",
    "        myloctype = x.raw['address_components'][0]['types']\n",
    "        myloctype = ','.join(map(str, myloctype)) \n",
    "        mylocname = x.raw['formatted_address']\n",
    " \n",
    "        mystuff = [mylng,mylat,myloctype,mylocname]\n",
    "    else:\n",
    "        #what to return whn a place can't be geocoded\n",
    "        mystuff = [0,0,\"none\",\"none\"]\n",
    "        \n",
    "    return mystuff"
   ]
  },
  {
   "cell_type": "code",
   "execution_count": null,
   "metadata": {
    "collapsed": false
   },
   "outputs": [],
   "source": [
    "# test the function\n",
    "getGeocodeInfo('Berkeley, CA')"
   ]
  },
  {
   "cell_type": "code",
   "execution_count": null,
   "metadata": {
    "collapsed": false
   },
   "outputs": [],
   "source": [
    "# test data that won't geocode\n",
    "getGeocodeInfo('Berkeley')"
   ]
  },
  {
   "cell_type": "code",
   "execution_count": null,
   "metadata": {
    "collapsed": true
   },
   "outputs": [],
   "source": [
    "# GEOCODE ALL PLACES IN THE TOP_LOCS TABLE\n",
    "x = []\n",
    "def getAll():\n",
    "    for i in top_locs['place']:\n",
    "        x.append(getGeocodeInfo(i))\n",
    "    return x\n"
   ]
  },
  {
   "cell_type": "code",
   "execution_count": null,
   "metadata": {
    "collapsed": false
   },
   "outputs": [],
   "source": [
    "x = getAll()\n",
    "x"
   ]
  },
  {
   "cell_type": "code",
   "execution_count": null,
   "metadata": {
    "collapsed": false
   },
   "outputs": [],
   "source": [
    "#MAKE SURE THE NUMBER OF GEOCODED LOCS IS SAME AS NUMBER OF ROWS IN OUR TABLE\n",
    "top_locs.num_rows == len(x)"
   ]
  },
  {
   "cell_type": "markdown",
   "metadata": {},
   "source": [
    "Now that we have all of our geocoded place data, we can add it to our top_locs table. We will then remove the places that we were unable to geocode - those where **loctype = 'none'**.\n"
   ]
  },
  {
   "cell_type": "code",
   "execution_count": null,
   "metadata": {
    "collapsed": false
   },
   "outputs": [],
   "source": [
    "# Add geocoded location data to the table\n",
    "(top_locs['longitude'], top_locs['latitude'], top_locs['loctype'], top_locs['locname']) = zip(*x)\n"
   ]
  },
  {
   "cell_type": "code",
   "execution_count": null,
   "metadata": {
    "collapsed": false
   },
   "outputs": [],
   "source": [
    "# remove rows for places that were note geocoded\n",
    "top_locs = top_locs.where((top_locs['loctype'] !=('none')))\n",
    "print('Number of places with more than 5 references: ', top_locs.num_rows)\n",
    "top_locs.show()"
   ]
  },
  {
   "cell_type": "markdown",
   "metadata": {},
   "source": [
    "### Evaluating our work\n",
    "\n",
    "What places were named in the book as being on the itenerary for the journey around the world?\n"
   ]
  },
  {
   "cell_type": "markdown",
   "metadata": {},
   "source": [
    ">\"These dates were inscribed in an itinerary divided into columns,\n",
    "indicating the month, the day of the month, and the day for the\n",
    "stipulated and actual arrivals at each principal point Paris, Brindisi,\n",
    "Suez, Bombay, Calcutta, Singapore, Hong Kong, Yokohama, San Francisco,\n",
    "New York, and London--from the 2nd of October to the 21st of December;\""
   ]
  },
  {
   "cell_type": "markdown",
   "metadata": {},
   "source": [
    "### Mapping our Places\n",
    "\n",
    "We are now ready to map our locations..."
   ]
  },
  {
   "cell_type": "code",
   "execution_count": null,
   "metadata": {
    "collapsed": false
   },
   "outputs": [],
   "source": [
    "#map the locations\n",
    "Circle.map_table(top_locs.select(['latitude', 'longitude']))"
   ]
  },
  {
   "cell_type": "markdown",
   "metadata": {},
   "source": [
    "Those circles on the map are too small to see unless you zoom way in. So, you can't get a sense of the places that were visited during the journey around the world. Let's make a few adjustments. We will:\n",
    "\n",
    "1. color the points red to make them more visible\n",
    "2. increase the radius of the points proportional to the counts so that we can see the relative importance\n",
    "3. add a descriptive text that will display in a popup window when you click on the map\n"
   ]
  },
  {
   "cell_type": "code",
   "execution_count": null,
   "metadata": {
    "collapsed": false
   },
   "outputs": [],
   "source": [
    "# Set the color and radius for each point we will map\n",
    "top_locs['radius'] = 10000 * top_locs['count']\n",
    "top_locs['color'] = 'red'\n",
    "top_locs"
   ]
  },
  {
   "cell_type": "code",
   "execution_count": null,
   "metadata": {
    "collapsed": true
   },
   "outputs": [],
   "source": [
    "# Create descriptive text for popup\n",
    "top_locs['description'] = top_locs.apply(lambda x,y,z: \"%s, %s mentions (as %s)\"% (x, str(y),z), ['locname', 'count', 'place'])"
   ]
  },
  {
   "cell_type": "code",
   "execution_count": null,
   "metadata": {
    "collapsed": false
   },
   "outputs": [],
   "source": [
    "Circle.map_table(top_locs.select(['latitude', 'longitude','description','color','radius']))"
   ]
  },
  {
   "cell_type": "markdown",
   "metadata": {},
   "source": [
    "Add the actual route map is...\n",
    "<img src=\"http://kickasstrips.com/wp-content/uploads/2014/06/Around_the_World_in_Eighty_Days_map_Jules_Verne.jpg\" width=\"800\"></img>\n",
    "\n",
    "See: (http://kickasstrips.com/2014/06/around-the-world-in-80-days-phileas-foggs-original-journey/)"
   ]
  },
  {
   "cell_type": "markdown",
   "metadata": {
    "collapsed": true
   },
   "source": [
    "## Questions:\n",
    "\n",
    "1. Compare the place names that we extracted from the text (in the version of our top_locs table shown before the section **Evaluating our work**)   with the places listed in the text as the itenerary (quoted after the section **Evaluating our work**). How well did the code work? Are there places that you would like to remove from the table? If yes, why?\n",
    "2. Name some of the reasons why place name geoparsing is difficult.\n",
    "3. Why is place name \"data cleaning\" difficult. We did some of this in cell 84.\n",
    "4. Why did we remove \"Passepartout\" and 'Aouda' in cell 84? Take a look at the ebook URL for clues.\n",
    "5. Can you guess what types of documents would geoparse better than others? worse?\n",
    "6. What are the alternatives to automated geoparsing?\n",
    "7. Discuss the difference between referencing that big city across the bay as 'San Francisco' vs. 37.77493, '-122.41942'."
   ]
  },
  {
   "cell_type": "markdown",
   "metadata": {},
   "source": [
    "### BONUS Evaluation, part II\n",
    "\n",
    "We can use the python **Folium** library to create a route map and see if it looks like the route shown in the image above. Don't worry about understanding the code, just execute it and view the results."
   ]
  },
  {
   "cell_type": "code",
   "execution_count": null,
   "metadata": {
    "collapsed": false
   },
   "outputs": [],
   "source": [
    "# Sort the locations for our route by longitude (east-west direction. \n",
    "# This is a little tricky because longitude range from -180 to +180 and those numbers reference the same locations.\n",
    "top_locs['sorder'] = 0 # add a new column and set it to zero\n",
    "top_locs['sorder'] = [(lon+360) if lon < -0.2 else (lon) for lon in top_locs['longitude']]\n",
    "\n",
    "# display the locations sorted by sorder\n",
    "top_locs.sort('sorder').show()\n"
   ]
  },
  {
   "cell_type": "code",
   "execution_count": null,
   "metadata": {
    "collapsed": false
   },
   "outputs": [],
   "source": [
    "# save the sort order to a new table\n",
    "top_locs2 = top_locs.sort('sorder')\n",
    "top_locs2.show()"
   ]
  },
  {
   "cell_type": "code",
   "execution_count": null,
   "metadata": {
    "collapsed": true
   },
   "outputs": [],
   "source": [
    "import folium\n",
    "\n",
    "# Simple function to show folium maps inline\n",
    "from IPython.display import HTML\n",
    "\n",
    "def inline_map(m, height=500):\n",
    "    \"\"\"Takes a folium instance and embed HTML.\"\"\"\n",
    "    m._build_map()\n",
    "    srcdoc = m.HTML.replace('\"', '&quot;')\n",
    "    embed = HTML('<iframe srcdoc=\"{0}\" '\n",
    "                 'style=\"width: 100%; height: {1}px; '\n",
    "                 'border: none\"></iframe>'.format(srcdoc, height))\n",
    "    return embed"
   ]
  },
  {
   "cell_type": "code",
   "execution_count": null,
   "metadata": {
    "collapsed": false
   },
   "outputs": [],
   "source": [
    "# Create an ordered list of our route locations\n",
    "book_locs = list(zip(top_locs2['latitude'], top_locs2['longitude']))\n"
   ]
  },
  {
   "cell_type": "code",
   "execution_count": null,
   "metadata": {
    "collapsed": false
   },
   "outputs": [],
   "source": [
    "m = folium.Map([0,0], zoom_start=2) \n",
    "\n",
    "m.line(locations=book_locs[0:16], line_color='red')\n",
    "m.line(locations=book_locs[16:], line_color='red', line_weight=6)\n",
    "\n",
    "def mapMyPoint(the_map, lat,lon, popupContent, m_color='blue'):\n",
    "    the_map.simple_marker(location=(lat,lon), popup=popupContent, marker_color=m_color)\n",
    "\n",
    "# Add the points along the route\n",
    "top_locs2.apply(lambda lat,lon , thePopup: mapMyPoint(m, lat,lon, thePopup), ['latitude','longitude','description'])\n",
    "\n",
    "inline_map(m)"
   ]
  },
  {
   "cell_type": "markdown",
   "metadata": {
    "collapsed": true
   },
   "source": [
    "### Bonus Question\n",
    "What location(s) are messing up the route map, if any? "
   ]
  },
  {
   "cell_type": "markdown",
   "metadata": {},
   "source": [
    "Add the actual route map is...\n",
    "<img src=\"http://kickasstrips.com/wp-content/uploads/2014/06/Around_the_World_in_Eighty_Days_map_Jules_Verne.jpg\" width=\"800\"></img>\n",
    "\n",
    "See: (http://kickasstrips.com/2014/06/around-the-world-in-80-days-phileas-foggs-original-journey/)"
   ]
  },
  {
   "cell_type": "code",
   "execution_count": null,
   "metadata": {
    "collapsed": true
   },
   "outputs": [],
   "source": []
  }
 ],
 "metadata": {
  "kernelspec": {
   "display_name": "Python 3",
   "language": "python",
   "name": "python3"
  },
  "language_info": {
   "codemirror_mode": {
    "name": "ipython",
    "version": 3
   },
   "file_extension": ".py",
   "mimetype": "text/x-python",
   "name": "python",
   "nbconvert_exporter": "python",
   "pygments_lexer": "ipython3",
   "version": "3.5.2"
  },
  "timetravel": {
   "allowedContentTypes": [
    "text/plain"
   ],
   "enabled": false,
   "version": "1.0"
  }
 },
 "nbformat": 4,
 "nbformat_minor": 0
}
