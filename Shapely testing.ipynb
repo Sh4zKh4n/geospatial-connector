{
 "cells": [
  {
   "cell_type": "markdown",
   "metadata": {},
   "source": [
    "## Working with Shapely - points, lines, polygons, topology"
   ]
  },
  {
   "cell_type": "code",
   "execution_count": 16,
   "metadata": {
    "collapsed": true
   },
   "outputs": [],
   "source": [
    "from shapely.geometry import Polygon, Point, LineString\n",
    "import math\n",
    "from geopy.distance import vincenty, great_circle\n",
    "\n"
   ]
  },
  {
   "cell_type": "code",
   "execution_count": 11,
   "metadata": {
    "collapsed": false
   },
   "outputs": [
    {
     "data": {
      "text/plain": [
       "0"
      ]
     },
     "execution_count": 11,
     "metadata": {},
     "output_type": "execute_result"
    }
   ],
   "source": [
    "from osgeo import ogr, osr, gdal\n",
    "\n",
    "# Enable GDAL/OGR exceptions\n",
    "gdal.UseExceptions()\n",
    "# example GDAL error handler function\n",
    "\n",
    "def gdal_error_handler(err_class, err_num, err_msg):\n",
    "    errtype = {\n",
    "            gdal.CE_None:'None',\n",
    "            gdal.CE_Debug:'Debug',\n",
    "            gdal.CE_Warning:'Warning',\n",
    "            gdal.CE_Failure:'Failure',\n",
    "            gdal.CE_Fatal:'Fatal'\n",
    "    }\n",
    "    err_msg = err_msg.replace('\\n',' ')\n",
    "    err_class = errtype.get(err_class, 'None')\n",
    "    print 'Error Number: %s' % (err_num)\n",
    "    print 'Error Type: %s' % (err_class)\n",
    "    print 'Error Message: %s' % (err_msg)\n",
    "\n",
    "gdal.PushErrorHandler(gdal_error_handler)"
   ]
  },
  {
   "cell_type": "code",
   "execution_count": 12,
   "metadata": {
    "collapsed": false
   },
   "outputs": [
    {
     "name": "stdout",
     "output_type": "stream",
     "text": [
      "/Applications/anaconda/share/gdal\n"
     ]
    }
   ],
   "source": [
    "#gdal is having trouble finding the *.csv files which are in \"/Applications/anaconda/share/gdal\"\n",
    "gdal.SetConfigOption('GDAL_DATA','/Applications/anaconda/share/gdal')\n",
    "print(gdal.GetConfigOption('GDAL_DATA'))"
   ]
  },
  {
   "cell_type": "code",
   "execution_count": 13,
   "metadata": {
    "collapsed": true
   },
   "outputs": [],
   "source": [
    "SEA = (47.449, -122.309) # Seattle Tacoma International Airport (SEA)\n",
    "DFW = (32.896, -97.037) # Dallas / Fort Worth International Airport (DFW)"
   ]
  },
  {
   "cell_type": "code",
   "execution_count": 14,
   "metadata": {
    "collapsed": false
   },
   "outputs": [
    {
     "data": {
      "text/plain": [
       "29.162712373851637"
      ]
     },
     "execution_count": 14,
     "metadata": {},
     "output_type": "execute_result"
    }
   ],
   "source": [
    "sea_pt = Point(SEA[1], SEA[0])\n",
    "dfw_pt = Point(DFW[1], DFW[0])\n",
    "line_sea_dfw = LineString([sea_pt,dfw_pt])\n",
    "line_sea_dfw.length"
   ]
  },
  {
   "cell_type": "code",
   "execution_count": 20,
   "metadata": {
    "collapsed": false
   },
   "outputs": [
    {
     "name": "stdout",
     "output_type": "stream",
     "text": [
      "2671.13691103 km\n",
      "2669.03398568 km\n"
     ]
    }
   ],
   "source": [
    "print(vincenty(SEA,DFW)) # slower but more accurate\n",
    "print(great_circle(SEA,DFW))  # great circle compute distance on the sphere not spheriod"
   ]
  },
  {
   "cell_type": "markdown",
   "metadata": {},
   "source": [
    "If we want to use shapely to calculate length and area it has to be with projected data.\n",
    "We know how to project a point. Now let's project lines and polygons.\n",
    "Then we can calculate metrics"
   ]
  },
  {
   "cell_type": "code",
   "execution_count": null,
   "metadata": {
    "collapsed": true
   },
   "outputs": [],
   "source": [
    "poly = Polygon(((0, 0), (0, 2), (2, 2), (2, 0)))\n",
    "one_pt = Point(1,1)\n",
    "one_pt.within(poly)\n",
    "sfo_pt = Point(sfo[0],sfo[1])\n",
    "sfo_pt.within(poly)\n",
    "poly.area\n",
    "line = LineString([(0, 0), (1, 1)])\n",
    "line.length\n"
   ]
  },
  {
   "cell_type": "code",
   "execution_count": 21,
   "metadata": {
    "collapsed": true
   },
   "outputs": [],
   "source": [
    "from geopandas import *"
   ]
  },
  {
   "cell_type": "code",
   "execution_count": 52,
   "metadata": {
    "collapsed": false
   },
   "outputs": [],
   "source": [
    "# load the shapefile\n",
    "all_countries = GeoDataFrame.from_file('data/usa_adm1.shp')\n",
    "\n",
    "# the original CRS of our shapefile and point data\n",
    "original_crs = all_countries.crs\n",
    "\n",
    "# the projected CRS to convert our shapefile and point data into\n",
    "target_crs = {'datum':'WGS84', 'no_defs':True, 'proj':'aea', 'lat_1':35, 'lat_2':55, 'lat_0':45, 'lon_0':10}\n"
   ]
  },
  {
   "cell_type": "code",
   "execution_count": 53,
   "metadata": {
    "collapsed": false
   },
   "outputs": [],
   "source": [
    "# change the CRS of the shapefile to the specified projected one\n",
    "all_countries_aea = all_countries.to_crs(crs=target_crs, inplace=False)"
   ]
  },
  {
   "cell_type": "code",
   "execution_count": 38,
   "metadata": {
    "collapsed": false
   },
   "outputs": [],
   "source": [
    "#all_countries\n"
   ]
  },
  {
   "cell_type": "code",
   "execution_count": 60,
   "metadata": {
    "collapsed": false
   },
   "outputs": [
    {
     "name": "stdout",
     "output_type": "stream",
     "text": [
      "(u'Florida', 147461.75251295223)\n",
      "(u'California', 409681.2085009259)\n"
     ]
    }
   ],
   "source": [
    "print(all_countries_aea.NAME_1[1], all_countries_aea.geometry[1].area/(1000 * 1000))\n",
    "# area of florida in sq km is 170,300 km2)\n",
    "print(all_countries_aea.NAME_1[45], all_countries_aea.geometry[45].area/(1000 * 1000))\n",
    "#all_countries.geometry.area\n",
    "#print(all_countries_aea.NAME_1)"
   ]
  },
  {
   "cell_type": "code",
   "execution_count": 63,
   "metadata": {
    "collapsed": true
   },
   "outputs": [],
   "source": [
    "# Let's try a different projection\n",
    "#+proj=aea +lat_1=34 +lat_2=40.5 +lat_0=0 +lon_0=-120 +x_0=0 +y_0=-4000000 +ellps=GRS80 +datum=NAD83 +units=m +no_defs \n",
    "cal_aea_crs = {'datum':'NAD83', 'no_defs':True, 'proj':'aea', 'lat_1':34, 'lat_2':40.5, 'lat_0':0, 'lon_0':-120, 'x_0':0, 'y_0': -4000000}\n",
    "all_countries_ca_aea = all_countries.to_crs(crs=cal_aea_crs, inplace=False)"
   ]
  },
  {
   "cell_type": "code",
   "execution_count": 65,
   "metadata": {
    "collapsed": false
   },
   "outputs": [
    {
     "name": "stdout",
     "output_type": "stream",
     "text": [
      "(u'California', 409681.0083207027)\n"
     ]
    }
   ],
   "source": [
    "#area of ca in sq km is 423,970 km2 - so I think this data is low spatial resolution\n",
    "print(all_countries_ca_aea.NAME_1[45], all_countries_ca_aea.geometry[45].area/(1000 * 1000))"
   ]
  },
  {
   "cell_type": "code",
   "execution_count": null,
   "metadata": {
    "collapsed": true
   },
   "outputs": [],
   "source": []
  }
 ],
 "metadata": {
  "kernelspec": {
   "display_name": "Python 2",
   "language": "python",
   "name": "python2"
  },
  "language_info": {
   "codemirror_mode": {
    "name": "ipython",
    "version": 2
   },
   "file_extension": ".py",
   "mimetype": "text/x-python",
   "name": "python",
   "nbconvert_exporter": "python",
   "pygments_lexer": "ipython2",
   "version": "2.7.10"
  }
 },
 "nbformat": 4,
 "nbformat_minor": 0
}
