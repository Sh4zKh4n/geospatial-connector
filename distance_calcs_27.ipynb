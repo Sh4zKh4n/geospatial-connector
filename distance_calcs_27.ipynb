{
 "cells": [
  {
   "cell_type": "markdown",
   "metadata": {},
   "source": [
    "## Computing the Distance between Two Points\n",
    "*Draft* exercise, last updated 11/16/2015\n",
    "pattyf@berkeley.edu\n",
    "\n",
    "### Introduction\n",
    "\n",
    "Most of us learned in high school that we can use the Pythagorean Theorem to calculate the straight-line distance between two points. The theorem can be written as an equation that relates the 3 sides of a triangle:\n",
    "\n",
    "**a2 + b2 = c2**.\n",
    "\n",
    "In other words, given point (x1,y1) and point (x2,y2) the distance between them is equal to the square root of sum of  (x1 - x2) and (y1 - y2).  This is known as the **Euclidean distance**.\n",
    "\n",
    "Let's use this method to calculate the distance between two international airports, Seattle Tacoma International Airport (SEA) and Dallas / Fort Worth International Airport (DFW). We can get the geographic coordinates for these places via a search http://geonames.org. The following coordinates, in latitude-longitude order, were retrieved:\n",
    "\n",
    "- 47.449, -122.309 # Seattle Tacoma International Airport (SEA)\n",
    "- 32.896, -97.037 # Dallas / Fort Worth International Airport (DFW)\n",
    "\n",
    "The distance between these two airports, according to the Great Circle Mapper (http://www.gcmap.com/) is **1660** miles or **2671.5** kilometers (km). Let's figure out the best method to calculate an accurate distance between these locations and why.\n",
    "\n",
    "#### References\n",
    "\n",
    "- http://geonames.org\n",
    "- https://en.wikipedia.org/wiki/Longitude\n",
    "- https://en.wikipedia.org/wiki/Latitude\n",
    "- http://maps.google.com\n",
    "- https://source.opennews.org/en-US/learning/choosing-right-map-projection/\n",
    "- https://en.wikipedia.org/wiki/Pythagorean_theorem\n"
   ]
  },
  {
   "cell_type": "code",
   "execution_count": 18,
   "metadata": {
    "collapsed": false
   },
   "outputs": [],
   "source": [
    "import math\n",
    "from geopy.distance import vincenty"
   ]
  },
  {
   "cell_type": "code",
   "execution_count": 19,
   "metadata": {
    "collapsed": false
   },
   "outputs": [],
   "source": [
    "SEA = (47.449, -122.309) # Seattle Tacoma International Airport (SEA)\n",
    "DFW = (32.896, -97.037) # Dallas / Fort Worth International Airport (DFW)"
   ]
  },
  {
   "cell_type": "code",
   "execution_count": 20,
   "metadata": {
    "collapsed": true
   },
   "outputs": [],
   "source": [
    "# a function to calculate distance using the pythagorean theorem\n",
    "def euclidean_dist ( x1, y1, x2, y2 ):\n",
    "    x_dist = x1 - x2  \n",
    "    y_dist = y1-y2    \n",
    "    dist_sq = x_dist**2 + y_dist**2   \n",
    "\n",
    "    distance = math.sqrt(dist_sq)   \n",
    "    return distance"
   ]
  },
  {
   "cell_type": "code",
   "execution_count": 21,
   "metadata": {
    "collapsed": false
   },
   "outputs": [
    {
     "data": {
      "text/plain": [
       "29.162712373851637"
      ]
     },
     "execution_count": 21,
     "metadata": {},
     "output_type": "execute_result"
    }
   ],
   "source": [
    "euclidean_dist(SEA[1],SEA[0],DFW[1], DFW[0])"
   ]
  },
  {
   "cell_type": "markdown",
   "metadata": {},
   "source": [
    "### Interpretting the output\n",
    "\n",
    "What does that result mean? What are are units? Is that the correct distance?\n",
    "\n",
    "The value 29 is no where near the distance give to us by GCM (2671.5 km). The units are in decimal degrees which are angular units not linear. One might be tempted to convert decimal degrees to kilometers thinking they both measure distance on the surface of the earth so there must be a conversion factor. Well, because the earth is not flat it's complicated:\n",
    "\n",
    "- 1 degree of latitude on the earth measures about 111.2 km or 69 miles. It varies very slightly from 110.6 km at equator to 111.7 km at the poles).\n",
    "- 1 degree of longitude varies from 111.3 km  at the equator to 0 at the poles.\n"
   ]
  },
  {
   "cell_type": "markdown",
   "metadata": {},
   "source": [
    "### Questions\n",
    "\n",
    "    - Given the above information, write a formula that estimates the circumference of the earth\n",
    "        - at the equator\n",
    "        - at the poles\n",
    "    - Which value is larger and why?\n",
    "  "
   ]
  },
  {
   "cell_type": "markdown",
   "metadata": {},
   "source": [
    "Let's simplify and assume that one degree of latitude or longitude is about 111 KM and convert the distance in degrees to kilometers.\n"
   ]
  },
  {
   "cell_type": "code",
   "execution_count": 22,
   "metadata": {
    "collapsed": false
   },
   "outputs": [
    {
     "data": {
      "text/plain": [
       "3237.0610734975317"
      ]
     },
     "execution_count": 22,
     "metadata": {},
     "output_type": "execute_result"
    }
   ],
   "source": [
    "euclidean_dist(SEA[1],SEA[0],DFW[1], DFW[0]) * 111\n"
   ]
  },
  {
   "cell_type": "markdown",
   "metadata": {},
   "source": [
    "Our distance calculation is now off by **565** km (3237.1 km - 2671.5 km). So, clearly we cannot assume a flat earth when we calculate geographic distances.\n",
    "\n",
    "### Measuring Distance on the Spherical Earth\n",
    "\n",
    "The simplest model of the non-flat earth is a sphere. Given a spherical model, we can calculate distances on the earth  if we know the circumference of the sphere. The shortest distance between two points along a sphere is called a great-circle diatance. The calculation employs the **haversine formula** and is shown below. Because of their mathematical properties of radians, angular measurements based on radians rather than degrees are used. (One radian is equal to 180/pi degrees.)"
   ]
  },
  {
   "cell_type": "code",
   "execution_count": 23,
   "metadata": {
    "collapsed": true
   },
   "outputs": [],
   "source": [
    "# a function to calculate distance on a sphere\n",
    "EARTH_RADIUS_KM = 6371\n",
    "def haversine_dist ( x1, y1, x2, y2 ):\n",
    "    x_dist_h = math.radians(x1 - x2)\n",
    "    y_dist_h = math.radians(y1 - y2)\n",
    "    y1_rad = math.radians(y1)\n",
    "    y2_rad = math.radians(y2)\n",
    "    a = math.sin(y_dist_h/2)**2 + math.sin(x_dist_h/2)**2 * math.cos(y1_rad) * math.cos(y2_rad)\n",
    "    c = 2 * math.asin(math.sqrt(a))\n",
    "    distance_h = c * EARTH_RADIUS_KM\n",
    "    return distance_h"
   ]
  },
  {
   "cell_type": "code",
   "execution_count": 24,
   "metadata": {
    "collapsed": false
   },
   "outputs": [
    {
     "name": "stdout",
     "output_type": "stream",
     "text": [
      "2668.28220942\n"
     ]
    }
   ],
   "source": [
    "print(haversine_dist(SEA[1],SEA[0],DFW[1], DFW[0]) )\n"
   ]
  },
  {
   "cell_type": "markdown",
   "metadata": {},
   "source": [
    "Using the spherical model, our distance is now only 3.5 km off of the Great Circle Mapper. That's pretty good. Why not just call it a day? There are two main reasons: 1) because some applications require a higher level of accuracy (e.g., a drone delivering your package) and  2) because the earth, as much as we would like to to be, is not a sphere.  Its shape is closer to an **ellipsoid** (which is sometimes refered to as a spheriod). We have only calculated the distance between two points on the earth. Distance calculations based on a spherical earth model may be much more accurate for other locations.\n",
    "\n",
    "### Measuring Distance on the Ellipsoidal Earth\n",
    "\n",
    "A ellipsoidal model of the earth is specified by the radius of the major and minor axes or by the radius of the major axis and the polar flattening ratio. The main reference ellipsoids in use in North America are:\n",
    "\n",
    "- World Geodetic System of 1984, WGS-84 (6378.137,    6356.7523142)\n",
    "- The Geodetic Reference system of 1980 GRS-80 (6378.137,    6356.7523141)\n",
    "- Clarke (1880) (6378.249145, 6356.51486955) (now obsolete but data floating around that use it.)\n",
    "\n",
    "WGS84 is the default ellipsoidal model and is implemented by the WGS84 Geographic Coordinate Reference System (CRS).\n",
    "\n",
    "Distance calculataions based on the ellipsoidal model of the earth employ **Vincenty's formula**. This is much more complicated math so we will use it's implementation in the python **geopy** module. You can read about it here:\n",
    "https://github.com/geopy/geopy/blob/master/geopy/distance.py"
   ]
  },
  {
   "cell_type": "code",
   "execution_count": 25,
   "metadata": {
    "collapsed": false
   },
   "outputs": [
    {
     "name": "stdout",
     "output_type": "stream",
     "text": [
      "2671.13691103\n"
     ]
    }
   ],
   "source": [
    "# try vincenty - default ellipsoid is wgs84,others listed at: \n",
    "# https://github.com/geopy/geopy/blob/master/geopy/distance.py\n",
    "print(vincenty(SEA, DFW).km)"
   ]
  },
  {
   "cell_type": "markdown",
   "metadata": {},
   "source": [
    "We now have approximately the same distance using the vincenty formula as we got from Great Circle Mapper! That is because GCM uses this formula (see: http://www.gcmap.com/faq/gccalc#gchow0). "
   ]
  },
  {
   "cell_type": "markdown",
   "metadata": {},
   "source": [
    "### Question\n",
    "Complete the code block below to compute the vincenty distance between these two airports using all three ellipsoids. See the url above for the function arguments. Discuss on any differences in the results."
   ]
  },
  {
   "cell_type": "code",
   "execution_count": 26,
   "metadata": {
    "collapsed": false
   },
   "outputs": [],
   "source": [
    "### Answer:\n",
    "#print(vincenty(..).km)\n",
    "#print(vincenty(..).km)\n",
    "#print(vincenty(..).km)\n"
   ]
  },
  {
   "cell_type": "markdown",
   "metadata": {},
   "source": [
    "You can see from above that *for these locations* the WGS84 and GRS80 ellipsoids give us the same result. This may not be true for all locations on the earth so it is important to specify the ellipsoid or CRS that you use. \n",
    "\n",
    "But wait! If we can accurately calculate distances using the ellipsoidal earth model why do we need map projections?\n",
    "\n",
    "\n",
    "### Map Projections\n",
    "\n",
    "Map projections are used to transform 3D geographic coordinates to a 2D planar surface. We do this so we can produce 2D visualizations of geographic locations, e.g., printed maps and on computer screens. We also need map projections because ellipsoidal calculations more complex than point distances are too computationally intensive and are not widely implemented.  Map projections are designed to minimize distortion in area, shape, distance and/or direction for specific regions on the earth. No map projection can eliminate all forms of distortion for all regions. The selection of the appropriate map projection is extremely important and must be made with respect to the needs of the application at hand.\n",
    "\n"
   ]
  },
  {
   "cell_type": "markdown",
   "metadata": {
    "collapsed": false
   },
   "source": [
    "### We can use the gdal module to transform geographic coordinates to projected coordinates.\n",
    "\n",
    "In order to transform geographic coordinates to projected coordinates we need to import some modules to help with the calculations. The osgeo gdal and ogr libraries are python ports of the powerful and widely used GDAL/OGR libraries for importing and transforming geospatial data. See http://gdal.org for details on its functionality."
   ]
  },
  {
   "cell_type": "code",
   "execution_count": 27,
   "metadata": {
    "collapsed": false
   },
   "outputs": [
    {
     "data": {
      "text/plain": [
       "0"
      ]
     },
     "execution_count": 27,
     "metadata": {},
     "output_type": "execute_result"
    }
   ],
   "source": [
    "from osgeo import ogr, osr, gdal\n",
    "\n",
    "# Enable GDAL/OGR exceptions\n",
    "gdal.UseExceptions()\n",
    "# example GDAL error handler function\n",
    "\n",
    "def gdal_error_handler(err_class, err_num, err_msg):\n",
    "    errtype = {\n",
    "            gdal.CE_None:'None',\n",
    "            gdal.CE_Debug:'Debug',\n",
    "            gdal.CE_Warning:'Warning',\n",
    "            gdal.CE_Failure:'Failure',\n",
    "            gdal.CE_Fatal:'Fatal'\n",
    "    }\n",
    "    err_msg = err_msg.replace('\\n',' ')\n",
    "    err_class = errtype.get(err_class, 'None')\n",
    "    print 'Error Number: %s' % (err_num)\n",
    "    print 'Error Type: %s' % (err_class)\n",
    "    print 'Error Message: %s' % (err_msg)\n",
    "\n",
    "gdal.PushErrorHandler(gdal_error_handler)"
   ]
  },
  {
   "cell_type": "code",
   "execution_count": 28,
   "metadata": {
    "collapsed": false
   },
   "outputs": [
    {
     "name": "stdout",
     "output_type": "stream",
     "text": [
      "/Applications/anaconda/share/gdal\n"
     ]
    }
   ],
   "source": [
    "#gdal is having trouble finding the *.csv files which are in \"/Applications/anaconda/share/gdal\"\n",
    "gdal.SetConfigOption('GDAL_DATA','/Applications/anaconda/share/gdal')\n",
    "print(gdal.GetConfigOption('GDAL_DATA'))\n"
   ]
  },
  {
   "cell_type": "markdown",
   "metadata": {},
   "source": [
    "### EPSG Codes\n",
    "\n",
    "- 4326 - WGS84 CRS\n",
    "- 3310 CA Teale Albers Equal Area\n",
    "- 2163 US National Atlas Equal Area\n",
    "- 32160 UTM 10N WGS84\n"
   ]
  },
  {
   "cell_type": "code",
   "execution_count": 29,
   "metadata": {
    "collapsed": false
   },
   "outputs": [],
   "source": [
    "def transformPoint( sourceCRS, targetCRS, x1, y1):\n",
    "\n",
    "    #input coord order is x/lon , y/lat\n",
    "\n",
    "    source = osr.SpatialReference()\n",
    "    source.ImportFromEPSG(sourceCRS)\n",
    "    #source.ImportFromEPSG(4326) # 4326 is the epsg cood for the WGS84 Geographic Coordinate System \n",
    "                                # which is a standard Global CRS\n",
    "\n",
    "\n",
    "    target = osr.SpatialReference()\n",
    "    target.ImportFromEPSG(targetCRS)\n",
    "    #target.ImportFromEPSG(2163) # 2163 is the epsg code for the US National Equal Area projected CRS\n",
    "                                # see http://spatialreference.org/ref/epsg/2163/\n",
    "\n",
    "    transform = osr.CoordinateTransformation(source, target)\n",
    "    the_point = \"POINT (\"+ str(x1) + \" \" + str(y1) + \")\"\n",
    "    #print(\"Input Point: \" + the_point)\n",
    "    point1 = ogr.CreateGeometryFromWkt(the_point)\n",
    "    #point1 = ogr.CreateGeometryFromWkt(\"POINT (-122.4061167 47.6149424)\")\n",
    "    point1.Transform(transform) #inplace transformation\n",
    "\n",
    "    #print (\"Output Point: \" + point1.ExportToWkt() )\n",
    "    return point1"
   ]
  },
  {
   "cell_type": "code",
   "execution_count": 30,
   "metadata": {
    "collapsed": false
   },
   "outputs": [
    {
     "name": "stdout",
     "output_type": "stream",
     "text": [
      "POINT (278124.705931125790812 -1338584.79250017250888)\n",
      "POINT (-1650677.9739719403442 504916.165791458159219)\n"
     ]
    }
   ],
   "source": [
    "# Project our airport points to the US National AEA projection (EPGS Code 2163)\n",
    "sea_t = transformPoint(4326, 2163, SEA[1], SEA[0])\n",
    "dfw_t = transformPoint(4326, 2163, DFW[1], DFW[0])\n",
    "print(dfw_t)\n",
    "print(sea_t)"
   ]
  },
  {
   "cell_type": "code",
   "execution_count": 31,
   "metadata": {
    "collapsed": false
   },
   "outputs": [
    {
     "data": {
      "text/plain": [
       "2668.103364044094"
      ]
     },
     "execution_count": 31,
     "metadata": {},
     "output_type": "execute_result"
    }
   ],
   "source": [
    "# We can use Euclidean geometry on projected coordinates\n",
    "# Calculate euclidean distance using projected coordinates\n",
    "euclidean_dist(sea_t.GetX(),sea_t.GetY(),dfw_t.GetX(),dfw_t.GetY()) / 1000"
   ]
  },
  {
   "cell_type": "code",
   "execution_count": 32,
   "metadata": {
    "collapsed": false
   },
   "outputs": [
    {
     "name": "stdout",
     "output_type": "stream",
     "text": [
      "971.991304929\n",
      "973.673939155\n",
      "971.352826665 km\n"
     ]
    }
   ],
   "source": [
    "# Distance calculations for\n",
    "# two locations along the same latitude- geonames\n",
    "### Quick & dirty euclidean distance will be pretty accurate bc longitude is constant\n",
    "stl = (38.743, -90.366) # Lambert–St. Louis International Airport\n",
    "msy = (29.987, -90.257) # Louis Armstrong New Orleans International Airport \n",
    "type(stl[1])\n",
    "print(euclidean_dist(stl[1],stl[0],msy[1],msy[0]) * 111)\n",
    "print(haversine_dist(stl[1],stl[0],msy[1],msy[0]))\n",
    "print(vincenty(stl,msy))"
   ]
  },
  {
   "cell_type": "code",
   "execution_count": 33,
   "metadata": {
    "collapsed": false
   },
   "outputs": [
    {
     "name": "stdout",
     "output_type": "stream",
     "text": [
      "676.795019567\n",
      "677.165643669 km\n",
      "676.990434844\n"
     ]
    }
   ],
   "source": [
    "# This example shows that distance calculations\n",
    "# using projected coordinates can employ simple euclidean distance calc and be just as accurate as vincenty.\n",
    "# (not sure it shows this!)\n",
    "sfo = (37.619, -122.376)\n",
    "psp = (33.828, -116.507) #palm springs\n",
    "print(haversine_dist(sfo[1],sfo[0],psp[1],psp[0]))\n",
    "print(vincenty(sfo,psp))\n",
    "psp_t = transformPoint(4326, 3310, psp[1], psp[0])\n",
    "sfo_t = transformPoint(4326, 3310, sfo[1], sfo[0])\n",
    "print(euclidean_dist(sfo_t.GetX(),sfo_t.GetY(),psp_t.GetX(),psp_t.GetY()) / 1000)"
   ]
  },
  {
   "cell_type": "code",
   "execution_count": 34,
   "metadata": {
    "collapsed": false
   },
   "outputs": [
    {
     "name": "stdout",
     "output_type": "stream",
     "text": [
      "676990.434844\n",
      "0.00139784812927\n",
      "677.165643669 km\n",
      "8.60691070557e-05\n"
     ]
    }
   ],
   "source": [
    "# an aside\n",
    "import timeit\n",
    "start = timeit.timeit()\n",
    "print(euclidean_dist(sfo_t.GetX(),sfo_t.GetY(),psp_t.GetX(),psp_t.GetY()))\n",
    "end = timeit.timeit()\n",
    "print (end - start) \n",
    "\n",
    "start = timeit.timeit()\n",
    "print(vincenty(sfo,psp))\n",
    "end = timeit.timeit()\n",
    "print (end - start)  "
   ]
  },
  {
   "cell_type": "markdown",
   "metadata": {},
   "source": [
    "\n",
    "## Questions\n"
   ]
  },
  {
   "cell_type": "markdown",
   "metadata": {},
   "source": [
    "Elephant seals migrate to Ano Nuevo State Park (37.1436, -122.3472) to mate between the months of Dec and March (http://www.parks.ca.gov/?page_id=1115).\n",
    "When they depart, males and females go their separate ways. The males travel approximately as far as (56.9643, -153.2407) while the can travel as far as (19.2469, -155.1130). (http://www.esajournals.org/doi/abs/10.1890/0012-9615%282000%29070%5B0353%3AFEONES%5D2.0.CO%3B2)\n",
    "\n",
    "Questions:\n",
    "\n",
    "- Do the males or females travel farther?\n",
    "    - **show your work - indicating how far males and females travel and how you determined those values**\n",
    "- Are the coordinates above listed as (lat, lon) or (lon,lat)? How can you tell?\n",
    "- Where do the males & females go respectively? For each group name the closest land mass.\n"
   ]
  },
  {
   "cell_type": "markdown",
   "metadata": {},
   "source": [
    "### Notes: questions to add\n",
    "\n",
    "- try calculating distance between two cities in CA, comparing UTM, CA albers projections to geo results.\n",
    "- distance between SF0 and London\n",
    "- can also add folium and map some locations and distances\n",
    "- add length and area calculations"
   ]
  },
  {
   "cell_type": "markdown",
   "metadata": {},
   "source": [
    "### Tips\n",
    "\n",
    "- Keep in mind lat vs lon order in the tuple\n",
    "- Be mindful of units"
   ]
  },
  {
   "cell_type": "markdown",
   "metadata": {},
   "source": [
    "### Summary \n",
    "\n",
    "\n",
    "- Measuring distance between two points within a small geographic regions can be extremely accurate and fast using projected data. This approach scales up well when working with large amounts of data or many complex spatial calculations.\n",
    "- For larger distances (and areas), calculations will be more accurate on a spheriod that with a planar map projection, but a bit slower. This is because map projections are designed to minimize distortion within a specifc region - the larger the region the more distortion as you transform space from a spheriod to a plane.\n",
    "\n",
    "\n",
    "#### From http://postgis.refractions.net/documentation/manual-1.5/ch04.html:\n",
    "\n",
    "- If your data is contained in a small area, you might find that choosing an appropriate projection and using GEOMETRY is the best solution, in terms of performance and functionality available.\n",
    "- If your data is global or covers a continental region, you may find that GEOGRAPHY allows you to build a system without having to worry about projection details. You store your data in longitude/latitude, and use the functions that have been defined on GEOGRAPHY.\n",
    "- If you don't understand projections, and you don't want to learn about them, and you're prepared to accept the limitations in functionality available in GEOGRAPHY, then it might be easier for you to use GEOGRAPHY than GEOMETRY. Simply load your data up as longitude/latitude and go from there.\n",
    "</pre>"
   ]
  },
  {
   "cell_type": "code",
   "execution_count": null,
   "metadata": {
    "collapsed": true
   },
   "outputs": [],
   "source": []
  }
 ],
 "metadata": {
  "kernelspec": {
   "display_name": "Python 2",
   "language": "python",
   "name": "python2"
  },
  "language_info": {
   "codemirror_mode": {
    "name": "ipython",
    "version": 2
   },
   "file_extension": ".py",
   "mimetype": "text/x-python",
   "name": "python",
   "nbconvert_exporter": "python",
   "pygments_lexer": "ipython2",
   "version": "2.7.10"
  }
 },
 "nbformat": 4,
 "nbformat_minor": 0
}
