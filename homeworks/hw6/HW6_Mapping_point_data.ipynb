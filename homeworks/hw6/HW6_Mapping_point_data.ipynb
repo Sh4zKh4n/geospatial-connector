{
 "cells": [
  {
   "cell_type": "markdown",
   "metadata": {},
   "source": [
    "# Homework 6. Mapping Points \n",
    "\n",
    "This homework builds on the class lecture, readings and Mapping Points notebook to explore the many common ways in which point data can be mapped."
   ]
  },
  {
   "cell_type": "markdown",
   "metadata": {},
   "source": [
    "## What to Submit\n",
    "Submit a zipfile with your ipython notebook and a PDF of the notebook via bCourses by **Tuesday, March 29, 2016 at 5pm**. If you are unable to create a PDF file, just submit your zipped notebook."
   ]
  },
  {
   "cell_type": "code",
   "execution_count": 48,
   "metadata": {
    "collapsed": true
   },
   "outputs": [],
   "source": [
    "# Import the libraries we will use\n",
    "from datascience import *\n",
    "import numpy as np\n",
    "import math\n",
    "import matplotlib.pyplot as plt\n",
    "\n",
    "%matplotlib inline"
   ]
  },
  {
   "cell_type": "code",
   "execution_count": 2,
   "metadata": {
    "collapsed": true
   },
   "outputs": [],
   "source": [
    "# Current Maps.py Circle method map_table supports setting color for each features\n",
    "# based on the value in the column color\n",
    "# But radius can only be set for all rows as a keyword arg radius\n",
    "\n",
    "# Import map_local.py to support feature level radii values\n",
    "# in Circle.map_table function. This uses radius value in column\n",
    "# This allows for proportional and graduated symbol mapping\n",
    "\n",
    "from maps_local import *"
   ]
  },
  {
   "cell_type": "markdown",
   "metadata": {},
   "source": [
    "## Preparation\n",
    "Read the Mapping Points Notebook carefully and run all the code. Make changes to experiment."
   ]
  },
  {
   "cell_type": "markdown",
   "metadata": {},
   "source": [
    "## Earthquake maps\n",
    "The first set of questions concerns the earthquake data mapped in the Mapping Points notebook."
   ]
  },
  {
   "cell_type": "markdown",
   "metadata": {},
   "source": [
    "### Question 1\n",
    "For each of the following types of Alameda County School Maps shown in the Mapping Points notebook, discuss what you found to be its strengths and limitations in displaying information:\n",
    "- 1.a. Marker dot map\n",
    "- 1.b. Circle dot map\n",
    "- 1.c. Cluster map\n",
    "\n",
    "#### Double-click here to add your answer below."
   ]
  },
  {
   "cell_type": "markdown",
   "metadata": {},
   "source": [
    "### Question 2\n",
    "Review the different maps of global earthquakes in the Mapping Points notebook. For the time period being mapped in what part of the world does it appear that the most earthquakes greater than 2.5 magnitude are occuring? What map tells you this and how? \n",
    "\n",
    "#### Double-click here to add your answer below.\n"
   ]
  },
  {
   "cell_type": "markdown",
   "metadata": {},
   "source": [
    "### Question 3\n",
    "In the first proportional symbol global earthquake map, the earthquake farthest North, above Greenland, appears to have the largest symbol. Is this the quake with the greatest magnitude? If not, why is the symbol so large?\n",
    "\n",
    "#### Double-click here to add your answer below."
   ]
  },
  {
   "cell_type": "markdown",
   "metadata": {},
   "source": [
    "### Question 4\n",
    "For the three graduated symbol maps of US earthquakes, which classification method do you think best conveys the location of earthquakes and the variance in earthquake magnitudes and why?\n",
    "\n",
    "#### Double-click here to add your answer below."
   ]
  },
  {
   "cell_type": "markdown",
   "metadata": {},
   "source": [
    "### Question 5\n",
    "For the three graduated color maps of US earthquakes, which classification method do you think best conveys the location of earthquakes and the variance in earthquake magnitudes and why?\n",
    "\n",
    "#### Double-click here to add your answer below."
   ]
  },
  {
   "cell_type": "markdown",
   "metadata": {},
   "source": [
    "### Question 6\n",
    "Do you find the proportional symbol, graduated color or graduated symbol maps of US earthquakes to be more useful in conveying location and magnitude information? Why?\n",
    "\n",
    "#### Double-click here to add your answer below."
   ]
  },
  {
   "cell_type": "markdown",
   "metadata": {},
   "source": [
    "### Question 7\n",
    "Read the USGS earthquake data used in the Mapping Points notebook into this notebook. In the cell below, create a **bivarate map** of US earthquakes that shows *magnitude* by graduate symbol size and earthquake *depth* by graduated symbol color. Use a different color palatte from colorbrewer.org then the one we already used in the Mapping Points notebook. Note that with earthquake depth the shallower the quake, the greater the significance of shaking from the event. Add more code cells if needed."
   ]
  },
  {
   "cell_type": "code",
   "execution_count": 4,
   "metadata": {
    "collapsed": true
   },
   "outputs": [],
   "source": [
    "# Add your code for Question 7 here. Add extra cells if needed.\n"
   ]
  },
  {
   "cell_type": "markdown",
   "metadata": {},
   "source": [
    "### Question 8\n",
    "In addition to providing downloadable files of recent earthquake data, the USGS also provides an **API**, or application programmers interface, that allows you to download slices of earthquake data based on your search criteria.  The cell below shows how to fetch earthquake data for the month that included the California 1989 Loma Prieta earthquake. Make a proportional symbol map from that data to see the dramatic magnitude of this quake."
   ]
  },
  {
   "cell_type": "code",
   "execution_count": 38,
   "metadata": {
    "collapsed": true
   },
   "outputs": [],
   "source": [
    "## Fetch historic CA earthquake data via USGS Earthquake API\n",
    "quake_url = \"http://earthquake.usgs.gov/fdsnws/event/1/query?format=csv&starttime=1989-10-01&endtime=1989-10-31&minmagnitude=2.5\"\n",
    "# California Bounding Extent: (-124.848974, 24.396308) - (-66.885444, 49.384358)\n",
    "quake_url = quake_url + \"&minlatitude=25&maxlatitude=49&minlongitude=-124&maxlongitude=-66\"\n",
    "histquakes = Table.read_table(quake_url, sep=\",\")"
   ]
  },
  {
   "cell_type": "code",
   "execution_count": 3,
   "metadata": {
    "collapsed": true
   },
   "outputs": [],
   "source": [
    "# Add your code for Question 8 here. Add extra cells if needed\n"
   ]
  },
  {
   "cell_type": "markdown",
   "metadata": {},
   "source": [
    "## Making maps of San Francisco Crime data\n",
    "\n",
    "The next set of questions will be based on the SF crime data that you can read in using the following code cell.\n"
   ]
  },
  {
   "cell_type": "code",
   "execution_count": 21,
   "metadata": {
    "collapsed": false
   },
   "outputs": [
    {
     "data": {
      "text/html": [
       "<table border=\"1\" class=\"dataframe\">\n",
       "    <thead>\n",
       "        <tr>\n",
       "            <th>IncidntNum</th> <th>Category</th> <th>Descript</th> <th>DayOfWeek</th> <th>Date</th> <th>Time</th> <th>PdDistrict</th> <th>Resolution</th> <th>Address</th> <th>X</th> <th>Y</th> <th>Location</th> <th>PdId</th>\n",
       "        </tr>\n",
       "    </thead>\n",
       "    <tbody>\n",
       "        <tr>\n",
       "            <td>160175068 </td> <td>OTHER OFFENSES        </td> <td>TRAFFIC VIOLATION                            </td> <td>Sunday   </td> <td>02/28/2016</td> <td>23:36</td> <td>SOUTHERN  </td> <td>ARREST, BOOKED</td> <td>FOLSOM ST / 5TH ST        </td> <td>-122.403</td> <td>37.7803</td> <td>(37.7802655777189, -122.403390364796)</td> <td>16017506865015</td>\n",
       "        </tr>\n",
       "    </tbody>\n",
       "        <tr>\n",
       "            <td>160175115 </td> <td>NON-CRIMINAL          </td> <td>DEATH REPORT, CAUSE UNKNOWN                  </td> <td>Sunday   </td> <td>02/28/2016</td> <td>23:35</td> <td>MISSION   </td> <td>NONE          </td> <td>100 Block of SAN BRUNO AV </td> <td>-122.406</td> <td>37.7678</td> <td>(37.7678326335682, -122.405836615175)</td> <td>16017511561030</td>\n",
       "        </tr>\n",
       "    </tbody>\n",
       "        <tr>\n",
       "            <td>160175046 </td> <td>LARCENY/THEFT         </td> <td>PETTY THEFT FROM LOCKED AUTO                 </td> <td>Sunday   </td> <td>02/28/2016</td> <td>23:21</td> <td>RICHMOND  </td> <td>NONE          </td> <td>8TH AV / LAKE ST          </td> <td>-122.467</td> <td>37.7866</td> <td>(37.7865668450296, -122.466830080521)</td> <td>16017504606242</td>\n",
       "        </tr>\n",
       "    </tbody>\n",
       "        <tr>\n",
       "            <td>166051448 </td> <td>LARCENY/THEFT         </td> <td>GRAND THEFT FROM LOCKED AUTO                 </td> <td>Sunday   </td> <td>02/28/2016</td> <td>23:15</td> <td>BAYVIEW   </td> <td>NONE          </td> <td>SAN BRUNO AV / FELTON ST  </td> <td>-122.405</td> <td>37.73  </td> <td>(37.7300379995128, -122.404594140634)</td> <td>16605144806244</td>\n",
       "        </tr>\n",
       "    </tbody>\n",
       "        <tr>\n",
       "            <td>160175109 </td> <td>SEX OFFENSES, FORCIBLE</td> <td>SEXUAL BATTERY                               </td> <td>Sunday   </td> <td>02/28/2016</td> <td>23:07</td> <td>INGLESIDE </td> <td>ARREST, BOOKED</td> <td>3900 Block of MISSION ST  </td> <td>-122.425</td> <td>37.7348</td> <td>(37.7347570904995, -122.425181516357)</td> <td>16017510904144</td>\n",
       "        </tr>\n",
       "    </tbody>\n",
       "        <tr>\n",
       "            <td>160175109 </td> <td>ASSAULT               </td> <td>BATTERY, FORMER SPOUSE OR DATING RELATIONSHIP</td> <td>Sunday   </td> <td>02/28/2016</td> <td>23:07</td> <td>INGLESIDE </td> <td>ARREST, BOOKED</td> <td>3900 Block of MISSION ST  </td> <td>-122.425</td> <td>37.7348</td> <td>(37.7347570904995, -122.425181516357)</td> <td>16017510904138</td>\n",
       "        </tr>\n",
       "    </tbody>\n",
       "        <tr>\n",
       "            <td>160175109 </td> <td>ASSAULT               </td> <td>FALSE IMPRISONMENT                           </td> <td>Sunday   </td> <td>02/28/2016</td> <td>23:07</td> <td>INGLESIDE </td> <td>ARREST, BOOKED</td> <td>3900 Block of MISSION ST  </td> <td>-122.425</td> <td>37.7348</td> <td>(37.7347570904995, -122.425181516357)</td> <td>16017510904170</td>\n",
       "        </tr>\n",
       "    </tbody>\n",
       "        <tr>\n",
       "            <td>160180794 </td> <td>BURGLARY              </td> <td>BURGLARY, HOT PROWL, UNLAWFUL ENTRY          </td> <td>Sunday   </td> <td>02/28/2016</td> <td>23:00</td> <td>TARAVAL   </td> <td>NONE          </td> <td>1100 Block of KIRKHAM ST  </td> <td>-122.473</td> <td>37.7599</td> <td>(37.7599474160093, -122.473045360566)</td> <td>16018079405083</td>\n",
       "        </tr>\n",
       "    </tbody>\n",
       "        <tr>\n",
       "            <td>160175983 </td> <td>VEHICLE THEFT         </td> <td>STOLEN TRUCK                                 </td> <td>Sunday   </td> <td>02/28/2016</td> <td>23:00</td> <td>TARAVAL   </td> <td>NONE          </td> <td>100 Block of SANANSELMO AV</td> <td>-122.465</td> <td>37.7361</td> <td>(37.736108723422, -122.465127152112) </td> <td>16017598307025</td>\n",
       "        </tr>\n",
       "    </tbody>\n",
       "        <tr>\n",
       "            <td>160179866 </td> <td>NON-CRIMINAL          </td> <td>LOST PROPERTY                                </td> <td>Sunday   </td> <td>02/28/2016</td> <td>23:00</td> <td>SOUTHERN  </td> <td>NONE          </td> <td>0 Block of MINNA ST       </td> <td>-122.399</td> <td>37.7881</td> <td>(37.788089672437, -122.398708168891) </td> <td>16017986671000</td>\n",
       "        </tr>\n",
       "    </tbody>\n",
       "</table>\n",
       "<p>... (23002 rows omitted)</p"
      ],
      "text/plain": [
       "IncidntNum | Category               | Descript                                      | DayOfWeek | Date       | Time  | PdDistrict | Resolution     | Address                    | X        | Y       | Location                              | PdId\n",
       "160175068  | OTHER OFFENSES         | TRAFFIC VIOLATION                             | Sunday    | 02/28/2016 | 23:36 | SOUTHERN   | ARREST, BOOKED | FOLSOM ST / 5TH ST         | -122.403 | 37.7803 | (37.7802655777189, -122.403390364796) | 16017506865015\n",
       "160175115  | NON-CRIMINAL           | DEATH REPORT, CAUSE UNKNOWN                   | Sunday    | 02/28/2016 | 23:35 | MISSION    | NONE           | 100 Block of SAN BRUNO AV  | -122.406 | 37.7678 | (37.7678326335682, -122.405836615175) | 16017511561030\n",
       "160175046  | LARCENY/THEFT          | PETTY THEFT FROM LOCKED AUTO                  | Sunday    | 02/28/2016 | 23:21 | RICHMOND   | NONE           | 8TH AV / LAKE ST           | -122.467 | 37.7866 | (37.7865668450296, -122.466830080521) | 16017504606242\n",
       "166051448  | LARCENY/THEFT          | GRAND THEFT FROM LOCKED AUTO                  | Sunday    | 02/28/2016 | 23:15 | BAYVIEW    | NONE           | SAN BRUNO AV / FELTON ST   | -122.405 | 37.73   | (37.7300379995128, -122.404594140634) | 16605144806244\n",
       "160175109  | SEX OFFENSES, FORCIBLE | SEXUAL BATTERY                                | Sunday    | 02/28/2016 | 23:07 | INGLESIDE  | ARREST, BOOKED | 3900 Block of MISSION ST   | -122.425 | 37.7348 | (37.7347570904995, -122.425181516357) | 16017510904144\n",
       "160175109  | ASSAULT                | BATTERY, FORMER SPOUSE OR DATING RELATIONSHIP | Sunday    | 02/28/2016 | 23:07 | INGLESIDE  | ARREST, BOOKED | 3900 Block of MISSION ST   | -122.425 | 37.7348 | (37.7347570904995, -122.425181516357) | 16017510904138\n",
       "160175109  | ASSAULT                | FALSE IMPRISONMENT                            | Sunday    | 02/28/2016 | 23:07 | INGLESIDE  | ARREST, BOOKED | 3900 Block of MISSION ST   | -122.425 | 37.7348 | (37.7347570904995, -122.425181516357) | 16017510904170\n",
       "160180794  | BURGLARY               | BURGLARY, HOT PROWL, UNLAWFUL ENTRY           | Sunday    | 02/28/2016 | 23:00 | TARAVAL    | NONE           | 1100 Block of KIRKHAM ST   | -122.473 | 37.7599 | (37.7599474160093, -122.473045360566) | 16018079405083\n",
       "160175983  | VEHICLE THEFT          | STOLEN TRUCK                                  | Sunday    | 02/28/2016 | 23:00 | TARAVAL    | NONE           | 100 Block of SANANSELMO AV | -122.465 | 37.7361 | (37.736108723422, -122.465127152112)  | 16017598307025\n",
       "160179866  | NON-CRIMINAL           | LOST PROPERTY                                 | Sunday    | 02/28/2016 | 23:00 | SOUTHERN   | NONE           | 0 Block of MINNA ST        | -122.399 | 37.7881 | (37.788089672437, -122.398708168891)  | 16017986671000\n",
       "... (23002 rows omitted)"
      ]
     },
     "execution_count": 21,
     "metadata": {},
     "output_type": "execute_result"
    }
   ],
   "source": [
    "# Read in the SF Crime data for first few months of 2016\n",
    "# Data from https://data.sfgov.org/Public-Safety/SFPD-Incidents-Current-Year-2016-/\n",
    "myfile = './SFPD_incidents_2016.csv'\n",
    "sfcrimes = Table.read_table(myfile)\n",
    "sfcrimes"
   ]
  },
  {
   "cell_type": "markdown",
   "metadata": {},
   "source": [
    "### Question 9. Cluster map of SF Crimes\n",
    "In the cell below, create a cluster map to see the distribution of SF crimes for this data. Using the information on the underlying OpenStreetMap reference map, what SF neighborhood seems to have the most crime? You can identify it by the streets or a landmark or your knowledge of the city."
   ]
  },
  {
   "cell_type": "code",
   "execution_count": 5,
   "metadata": {
    "collapsed": false
   },
   "outputs": [],
   "source": [
    "# Clustered dot map of SF Crime Incidents\n",
    "# Your code for Question 9 below..."
   ]
  },
  {
   "cell_type": "markdown",
   "metadata": {},
   "source": [
    "### Exploring the SF Crime data\n",
    "Take a look at the different categories of crimes and the counts of incidents in each category."
   ]
  },
  {
   "cell_type": "code",
   "execution_count": 22,
   "metadata": {
    "collapsed": false
   },
   "outputs": [
    {
     "data": {
      "text/html": [
       "<table border=\"1\" class=\"dataframe\">\n",
       "    <thead>\n",
       "        <tr>\n",
       "            <th>Category</th> <th>cat_count</th>\n",
       "        </tr>\n",
       "    </thead>\n",
       "    <tbody>\n",
       "        <tr>\n",
       "            <td>LARCENY/THEFT              </td> <td>6204     </td>\n",
       "        </tr>\n",
       "    </tbody>\n",
       "        <tr>\n",
       "            <td>OTHER OFFENSES             </td> <td>3027     </td>\n",
       "        </tr>\n",
       "    </tbody>\n",
       "        <tr>\n",
       "            <td>NON-CRIMINAL               </td> <td>2672     </td>\n",
       "        </tr>\n",
       "    </tbody>\n",
       "        <tr>\n",
       "            <td>ASSAULT                    </td> <td>2149     </td>\n",
       "        </tr>\n",
       "    </tbody>\n",
       "        <tr>\n",
       "            <td>VANDALISM                  </td> <td>1221     </td>\n",
       "        </tr>\n",
       "    </tbody>\n",
       "        <tr>\n",
       "            <td>VEHICLE THEFT              </td> <td>1061     </td>\n",
       "        </tr>\n",
       "    </tbody>\n",
       "        <tr>\n",
       "            <td>BURGLARY                   </td> <td>956      </td>\n",
       "        </tr>\n",
       "    </tbody>\n",
       "        <tr>\n",
       "            <td>WARRANTS                   </td> <td>949      </td>\n",
       "        </tr>\n",
       "    </tbody>\n",
       "        <tr>\n",
       "            <td>SUSPICIOUS OCC             </td> <td>853      </td>\n",
       "        </tr>\n",
       "    </tbody>\n",
       "        <tr>\n",
       "            <td>DRUG/NARCOTIC              </td> <td>700      </td>\n",
       "        </tr>\n",
       "    </tbody>\n",
       "        <tr>\n",
       "            <td>MISSING PERSON             </td> <td>615      </td>\n",
       "        </tr>\n",
       "    </tbody>\n",
       "        <tr>\n",
       "            <td>ROBBERY                    </td> <td>504      </td>\n",
       "        </tr>\n",
       "    </tbody>\n",
       "        <tr>\n",
       "            <td>FRAUD                      </td> <td>418      </td>\n",
       "        </tr>\n",
       "    </tbody>\n",
       "        <tr>\n",
       "            <td>SECONDARY CODES            </td> <td>293      </td>\n",
       "        </tr>\n",
       "    </tbody>\n",
       "        <tr>\n",
       "            <td>TRESPASS                   </td> <td>233      </td>\n",
       "        </tr>\n",
       "    </tbody>\n",
       "        <tr>\n",
       "            <td>WEAPON LAWS                </td> <td>212      </td>\n",
       "        </tr>\n",
       "    </tbody>\n",
       "        <tr>\n",
       "            <td>PROSTITUTION               </td> <td>167      </td>\n",
       "        </tr>\n",
       "    </tbody>\n",
       "        <tr>\n",
       "            <td>STOLEN PROPERTY            </td> <td>138      </td>\n",
       "        </tr>\n",
       "    </tbody>\n",
       "        <tr>\n",
       "            <td>SEX OFFENSES, FORCIBLE     </td> <td>123      </td>\n",
       "        </tr>\n",
       "    </tbody>\n",
       "        <tr>\n",
       "            <td>FORGERY/COUNTERFEITING     </td> <td>90       </td>\n",
       "        </tr>\n",
       "    </tbody>\n",
       "        <tr>\n",
       "            <td>DRUNKENNESS                </td> <td>83       </td>\n",
       "        </tr>\n",
       "    </tbody>\n",
       "        <tr>\n",
       "            <td>DISORDERLY CONDUCT         </td> <td>80       </td>\n",
       "        </tr>\n",
       "    </tbody>\n",
       "        <tr>\n",
       "            <td>DRIVING UNDER THE INFLUENCE</td> <td>52       </td>\n",
       "        </tr>\n",
       "    </tbody>\n",
       "        <tr>\n",
       "            <td>ARSON                      </td> <td>52       </td>\n",
       "        </tr>\n",
       "    </tbody>\n",
       "        <tr>\n",
       "            <td>KIDNAPPING                 </td> <td>41       </td>\n",
       "        </tr>\n",
       "    </tbody>\n",
       "        <tr>\n",
       "            <td>RUNAWAY                    </td> <td>24       </td>\n",
       "        </tr>\n",
       "    </tbody>\n",
       "        <tr>\n",
       "            <td>LIQUOR LAWS                </td> <td>18       </td>\n",
       "        </tr>\n",
       "    </tbody>\n",
       "        <tr>\n",
       "            <td>EMBEZZLEMENT               </td> <td>15       </td>\n",
       "        </tr>\n",
       "    </tbody>\n",
       "        <tr>\n",
       "            <td>LOITERING                  </td> <td>14       </td>\n",
       "        </tr>\n",
       "    </tbody>\n",
       "        <tr>\n",
       "            <td>EXTORTION                  </td> <td>10       </td>\n",
       "        </tr>\n",
       "    </tbody>\n",
       "        <tr>\n",
       "            <td>BRIBERY                    </td> <td>9        </td>\n",
       "        </tr>\n",
       "    </tbody>\n",
       "        <tr>\n",
       "            <td>SUICIDE                    </td> <td>8        </td>\n",
       "        </tr>\n",
       "    </tbody>\n",
       "        <tr>\n",
       "            <td>FAMILY OFFENSES            </td> <td>8        </td>\n",
       "        </tr>\n",
       "    </tbody>\n",
       "        <tr>\n",
       "            <td>BAD CHECKS                 </td> <td>5        </td>\n",
       "        </tr>\n",
       "    </tbody>\n",
       "        <tr>\n",
       "            <td>SEX OFFENSES, NON FORCIBLE </td> <td>4        </td>\n",
       "        </tr>\n",
       "    </tbody>\n",
       "        <tr>\n",
       "            <td>GAMBLING                   </td> <td>3        </td>\n",
       "        </tr>\n",
       "    </tbody>\n",
       "        <tr>\n",
       "            <td>PORNOGRAPHY/OBSCENE MAT    </td> <td>1        </td>\n",
       "        </tr>\n",
       "    </tbody>\n",
       "</table>"
      ],
      "text/plain": [
       "<IPython.core.display.HTML object>"
      ]
     },
     "metadata": {},
     "output_type": "display_data"
    }
   ],
   "source": [
    "# What are the different categories of crime and how frequent do they occur?\n",
    "crime_cats = sfcrimes.select(('IncidntNum','Category')).group('Category',len).sort('IncidntNum len', descending=True)\n",
    "crime_cats = crime_cats.relabel('IncidntNum len', 'cat_count')\n",
    "crime_cats.show()\n"
   ]
  },
  {
   "cell_type": "code",
   "execution_count": 43,
   "metadata": {
    "collapsed": false
   },
   "outputs": [
    {
     "data": {
      "text/html": [
       "<table border=\"1\" class=\"dataframe\">\n",
       "    <thead>\n",
       "        <tr>\n",
       "            <th>IncidntNum</th> <th>Category</th> <th>Descript</th> <th>DayOfWeek</th> <th>Date</th> <th>Time</th> <th>PdDistrict</th> <th>Resolution</th> <th>Address</th> <th>X</th> <th>Y</th> <th>Location</th> <th>PdId</th>\n",
       "        </tr>\n",
       "    </thead>\n",
       "    <tbody>\n",
       "        <tr>\n",
       "            <td>160169895 </td> <td>BRIBERY </td> <td>DISSUADING WITNESS, VICTIM</td> <td>Saturday </td> <td>02/27/2016</td> <td>02:30</td> <td>MISSION   </td> <td>NONE          </td> <td>1100 Block of ALABAMA ST </td> <td>-122.411</td> <td>37.7535</td> <td>(37.7534747396472, -122.410970913175)</td> <td>16016989526063</td>\n",
       "        </tr>\n",
       "    </tbody>\n",
       "        <tr>\n",
       "            <td>160171414 </td> <td>BRIBERY </td> <td>DISSUADING WITNESS, VICTIM</td> <td>Thursday </td> <td>02/25/2016</td> <td>15:00</td> <td>BAYVIEW   </td> <td>UNFOUNDED     </td> <td>500 Block of CAMBRIDGE ST</td> <td>-122.418</td> <td>37.7246</td> <td>(37.7246241454484, -122.417587250657)</td> <td>16017141426063</td>\n",
       "        </tr>\n",
       "    </tbody>\n",
       "        <tr>\n",
       "            <td>160151165 </td> <td>BRIBERY </td> <td>DISSUADING WITNESS, VICTIM</td> <td>Sunday   </td> <td>02/14/2016</td> <td>21:30</td> <td>SOUTHERN  </td> <td>NONE          </td> <td>1600 Block of MARKET ST  </td> <td>-122.422</td> <td>37.773 </td> <td>(37.7730330183515, -122.422127579529)</td> <td>16015116526063</td>\n",
       "        </tr>\n",
       "    </tbody>\n",
       "        <tr>\n",
       "            <td>160128318 </td> <td>BRIBERY </td> <td>DISSUADING WITNESS, VICTIM</td> <td>Friday   </td> <td>02/12/2016</td> <td>16:00</td> <td>NORTHERN  </td> <td>NONE          </td> <td>1500 Block of JACKSON ST </td> <td>-122.421</td> <td>37.7942</td> <td>(37.7941926336276, -122.420583441863)</td> <td>16012831826063</td>\n",
       "        </tr>\n",
       "    </tbody>\n",
       "        <tr>\n",
       "            <td>160095870 </td> <td>BRIBERY </td> <td>DISSUADING WITNESS, VICTIM</td> <td>Monday   </td> <td>02/01/2016</td> <td>14:00</td> <td>SOUTHERN  </td> <td>NONE          </td> <td>900 Block of MARKET ST   </td> <td>-122.41 </td> <td>37.7828</td> <td>(37.7828276498838, -122.409708423721)</td> <td>16009587026063</td>\n",
       "        </tr>\n",
       "    </tbody>\n",
       "        <tr>\n",
       "            <td>160071820 </td> <td>BRIBERY </td> <td>DISSUADING WITNESS, VICTIM</td> <td>Monday   </td> <td>01/25/2016</td> <td>15:20</td> <td>BAYVIEW   </td> <td>NONE          </td> <td>300 Block of PRINCETON ST</td> <td>-122.415</td> <td>37.7252</td> <td>(37.7252343553343, -122.41506794353) </td> <td>16007182026063</td>\n",
       "        </tr>\n",
       "    </tbody>\n",
       "        <tr>\n",
       "            <td>160064499 </td> <td>BRIBERY </td> <td>DISSUADING WITNESS, VICTIM</td> <td>Saturday </td> <td>01/23/2016</td> <td>06:48</td> <td>BAYVIEW   </td> <td>ARREST, BOOKED</td> <td>1100 Block of GILMAN AV  </td> <td>-122.391</td> <td>37.7198</td> <td>(37.7197891773069, -122.391002965046)</td> <td>16006449926063</td>\n",
       "        </tr>\n",
       "    </tbody>\n",
       "        <tr>\n",
       "            <td>160060992 </td> <td>BRIBERY </td> <td>DISSUADING WITNESS, VICTIM</td> <td>Wednesday</td> <td>01/20/2016</td> <td>23:00</td> <td>INGLESIDE </td> <td>NONE          </td> <td>3300 Block of MISSION ST </td> <td>-122.421</td> <td>37.7436</td> <td>(37.743584765874, -122.421264331104) </td> <td>16006099226063</td>\n",
       "        </tr>\n",
       "    </tbody>\n",
       "        <tr>\n",
       "            <td>160057347 </td> <td>BRIBERY </td> <td>DISSUADING WITNESS, VICTIM</td> <td>Wednesday</td> <td>01/20/2016</td> <td>20:30</td> <td>NORTHERN  </td> <td>NONE          </td> <td>1400 Block of LOMBARD ST </td> <td>-122.425</td> <td>37.8013</td> <td>(37.8013130714495, -122.42540353319) </td> <td>16005734726063</td>\n",
       "        </tr>\n",
       "    </tbody>\n",
       "</table>"
      ],
      "text/plain": [
       "IncidntNum | Category | Descript                   | DayOfWeek | Date       | Time  | PdDistrict | Resolution     | Address                   | X        | Y       | Location                              | PdId\n",
       "160169895  | BRIBERY  | DISSUADING WITNESS, VICTIM | Saturday  | 02/27/2016 | 02:30 | MISSION    | NONE           | 1100 Block of ALABAMA ST  | -122.411 | 37.7535 | (37.7534747396472, -122.410970913175) | 16016989526063\n",
       "160171414  | BRIBERY  | DISSUADING WITNESS, VICTIM | Thursday  | 02/25/2016 | 15:00 | BAYVIEW    | UNFOUNDED      | 500 Block of CAMBRIDGE ST | -122.418 | 37.7246 | (37.7246241454484, -122.417587250657) | 16017141426063\n",
       "160151165  | BRIBERY  | DISSUADING WITNESS, VICTIM | Sunday    | 02/14/2016 | 21:30 | SOUTHERN   | NONE           | 1600 Block of MARKET ST   | -122.422 | 37.773  | (37.7730330183515, -122.422127579529) | 16015116526063\n",
       "160128318  | BRIBERY  | DISSUADING WITNESS, VICTIM | Friday    | 02/12/2016 | 16:00 | NORTHERN   | NONE           | 1500 Block of JACKSON ST  | -122.421 | 37.7942 | (37.7941926336276, -122.420583441863) | 16012831826063\n",
       "160095870  | BRIBERY  | DISSUADING WITNESS, VICTIM | Monday    | 02/01/2016 | 14:00 | SOUTHERN   | NONE           | 900 Block of MARKET ST    | -122.41  | 37.7828 | (37.7828276498838, -122.409708423721) | 16009587026063\n",
       "160071820  | BRIBERY  | DISSUADING WITNESS, VICTIM | Monday    | 01/25/2016 | 15:20 | BAYVIEW    | NONE           | 300 Block of PRINCETON ST | -122.415 | 37.7252 | (37.7252343553343, -122.41506794353)  | 16007182026063\n",
       "160064499  | BRIBERY  | DISSUADING WITNESS, VICTIM | Saturday  | 01/23/2016 | 06:48 | BAYVIEW    | ARREST, BOOKED | 1100 Block of GILMAN AV   | -122.391 | 37.7198 | (37.7197891773069, -122.391002965046) | 16006449926063\n",
       "160060992  | BRIBERY  | DISSUADING WITNESS, VICTIM | Wednesday | 01/20/2016 | 23:00 | INGLESIDE  | NONE           | 3300 Block of MISSION ST  | -122.421 | 37.7436 | (37.743584765874, -122.421264331104)  | 16006099226063\n",
       "160057347  | BRIBERY  | DISSUADING WITNESS, VICTIM | Wednesday | 01/20/2016 | 20:30 | NORTHERN   | NONE           | 1400 Block of LOMBARD ST  | -122.425 | 37.8013 | (37.8013130714495, -122.42540353319)  | 16005734726063"
      ]
     },
     "execution_count": 43,
     "metadata": {},
     "output_type": "execute_result"
    }
   ],
   "source": [
    "# View one category of crime\n",
    "sfcrimes.where(sfcrimes['Category']=='BRIBERY')"
   ]
  },
  {
   "cell_type": "code",
   "execution_count": 44,
   "metadata": {
    "collapsed": false
   },
   "outputs": [
    {
     "data": {
      "text/html": [
       "<table border=\"1\" class=\"dataframe\">\n",
       "    <thead>\n",
       "        <tr>\n",
       "            <th>IncidntNum</th> <th>Category</th> <th>Descript</th> <th>DayOfWeek</th> <th>Date</th> <th>Time</th> <th>PdDistrict</th> <th>Resolution</th> <th>Address</th> <th>X</th> <th>Y</th> <th>Location</th> <th>PdId</th>\n",
       "        </tr>\n",
       "    </thead>\n",
       "    <tbody>\n",
       "        <tr>\n",
       "            <td>160178727 </td> <td>FRAUD   </td> <td>CREDIT CARD, THEFT BY USE OF           </td> <td>Sunday   </td> <td>02/28/2016</td> <td>17:00</td> <td>CENTRAL   </td> <td>NONE          </td> <td>400 Block of POWELL ST    </td> <td>-122.409</td> <td>37.7888</td> <td>(37.7887594214703, -122.408568445228)</td> <td>16017872709320</td>\n",
       "        </tr>\n",
       "    </tbody>\n",
       "        <tr>\n",
       "            <td>160177246 </td> <td>FRAUD   </td> <td>CREDIT CARD, THEFT BY USE OF           </td> <td>Sunday   </td> <td>02/28/2016</td> <td>13:00</td> <td>SOUTHERN  </td> <td>NONE          </td> <td>800 Block of MARKET ST    </td> <td>-122.408</td> <td>37.7842</td> <td>(37.7841893501425, -122.407633520742)</td> <td>16017724609320</td>\n",
       "        </tr>\n",
       "    </tbody>\n",
       "        <tr>\n",
       "            <td>160182110 </td> <td>FRAUD   </td> <td>CREDIT CARD, THEFT BY USE OF           </td> <td>Sunday   </td> <td>02/28/2016</td> <td>09:30</td> <td>TARAVAL   </td> <td>NONE          </td> <td>200 Block of SHIELDS ST   </td> <td>-122.465</td> <td>37.7179</td> <td>(37.7178661251324, -122.46489903454) </td> <td>16018211009320</td>\n",
       "        </tr>\n",
       "    </tbody>\n",
       "        <tr>\n",
       "            <td>160173288 </td> <td>FRAUD   </td> <td>FRAUDULENT USE OF AUTOMATED TELLER CARD</td> <td>Sunday   </td> <td>02/28/2016</td> <td>09:25</td> <td>INGLESIDE </td> <td>NONE          </td> <td>0 Block of OCEAN AV       </td> <td>-122.436</td> <td>37.7238</td> <td>(37.7237904510244, -122.435940703509)</td> <td>16017328809250</td>\n",
       "        </tr>\n",
       "    </tbody>\n",
       "        <tr>\n",
       "            <td>160176721 </td> <td>FRAUD   </td> <td>CREDIT CARD, THEFT BY USE OF           </td> <td>Sunday   </td> <td>02/28/2016</td> <td>09:22</td> <td>MISSION   </td> <td>NONE          </td> <td>400 Block of SANCHEZ ST   </td> <td>-122.431</td> <td>37.7616</td> <td>(37.7615591117701, -122.430542885533)</td> <td>16017672109320</td>\n",
       "        </tr>\n",
       "    </tbody>\n",
       "        <tr>\n",
       "            <td>160176721 </td> <td>FRAUD   </td> <td>ACCESS CARD INFORMATION, THEFT OF      </td> <td>Sunday   </td> <td>02/28/2016</td> <td>09:22</td> <td>MISSION   </td> <td>NONE          </td> <td>400 Block of SANCHEZ ST   </td> <td>-122.431</td> <td>37.7616</td> <td>(37.7615591117701, -122.430542885533)</td> <td>16017672109164</td>\n",
       "        </tr>\n",
       "    </tbody>\n",
       "        <tr>\n",
       "            <td>160185863 </td> <td>FRAUD   </td> <td>CREDIT CARD, THEFT BY USE OF           </td> <td>Sunday   </td> <td>02/28/2016</td> <td>08:00</td> <td>TENDERLOIN</td> <td>NONE          </td> <td>200 Block of MCALLISTER ST</td> <td>-122.416</td> <td>37.7807</td> <td>(37.780719182394, -122.415754575208) </td> <td>16018586309320</td>\n",
       "        </tr>\n",
       "    </tbody>\n",
       "        <tr>\n",
       "            <td>160172848 </td> <td>FRAUD   </td> <td>CREDIT CARD, THEFT BY USE OF           </td> <td>Sunday   </td> <td>02/28/2016</td> <td>01:00</td> <td>NORTHERN  </td> <td>NONE          </td> <td>1900 Block of UNION ST    </td> <td>-122.432</td> <td>37.7975</td> <td>(37.7975014780581, -122.431809947334)</td> <td>16017284809320</td>\n",
       "        </tr>\n",
       "    </tbody>\n",
       "        <tr>\n",
       "            <td>160171759 </td> <td>FRAUD   </td> <td>CREDIT CARD, THEFT BY USE OF           </td> <td>Saturday </td> <td>02/27/2016</td> <td>12:00</td> <td>CENTRAL   </td> <td>NONE          </td> <td>100 Block of MONTGOMERY ST</td> <td>-122.402</td> <td>37.7905</td> <td>(37.7905215969161, -122.40221854007) </td> <td>16017175909320</td>\n",
       "        </tr>\n",
       "    </tbody>\n",
       "        <tr>\n",
       "            <td>160170654 </td> <td>FRAUD   </td> <td>DEFRAUDING AN INNKEEPER                </td> <td>Saturday </td> <td>02/27/2016</td> <td>10:56</td> <td>RICHMOND  </td> <td>ARREST, BOOKED</td> <td>GEARY BL / 9TH AV         </td> <td>-122.467</td> <td>37.7809</td> <td>(37.7808779197338, -122.467489289466)</td> <td>16017065427010</td>\n",
       "        </tr>\n",
       "    </tbody>\n",
       "</table>\n",
       "<p>... (417 rows omitted)</p"
      ],
      "text/plain": [
       "IncidntNum | Category | Descript                                | DayOfWeek | Date       | Time  | PdDistrict | Resolution     | Address                    | X        | Y       | Location                              | PdId\n",
       "160178727  | FRAUD    | CREDIT CARD, THEFT BY USE OF            | Sunday    | 02/28/2016 | 17:00 | CENTRAL    | NONE           | 400 Block of POWELL ST     | -122.409 | 37.7888 | (37.7887594214703, -122.408568445228) | 16017872709320\n",
       "160177246  | FRAUD    | CREDIT CARD, THEFT BY USE OF            | Sunday    | 02/28/2016 | 13:00 | SOUTHERN   | NONE           | 800 Block of MARKET ST     | -122.408 | 37.7842 | (37.7841893501425, -122.407633520742) | 16017724609320\n",
       "160182110  | FRAUD    | CREDIT CARD, THEFT BY USE OF            | Sunday    | 02/28/2016 | 09:30 | TARAVAL    | NONE           | 200 Block of SHIELDS ST    | -122.465 | 37.7179 | (37.7178661251324, -122.46489903454)  | 16018211009320\n",
       "160173288  | FRAUD    | FRAUDULENT USE OF AUTOMATED TELLER CARD | Sunday    | 02/28/2016 | 09:25 | INGLESIDE  | NONE           | 0 Block of OCEAN AV        | -122.436 | 37.7238 | (37.7237904510244, -122.435940703509) | 16017328809250\n",
       "160176721  | FRAUD    | CREDIT CARD, THEFT BY USE OF            | Sunday    | 02/28/2016 | 09:22 | MISSION    | NONE           | 400 Block of SANCHEZ ST    | -122.431 | 37.7616 | (37.7615591117701, -122.430542885533) | 16017672109320\n",
       "160176721  | FRAUD    | ACCESS CARD INFORMATION, THEFT OF       | Sunday    | 02/28/2016 | 09:22 | MISSION    | NONE           | 400 Block of SANCHEZ ST    | -122.431 | 37.7616 | (37.7615591117701, -122.430542885533) | 16017672109164\n",
       "160185863  | FRAUD    | CREDIT CARD, THEFT BY USE OF            | Sunday    | 02/28/2016 | 08:00 | TENDERLOIN | NONE           | 200 Block of MCALLISTER ST | -122.416 | 37.7807 | (37.780719182394, -122.415754575208)  | 16018586309320\n",
       "160172848  | FRAUD    | CREDIT CARD, THEFT BY USE OF            | Sunday    | 02/28/2016 | 01:00 | NORTHERN   | NONE           | 1900 Block of UNION ST     | -122.432 | 37.7975 | (37.7975014780581, -122.431809947334) | 16017284809320\n",
       "160171759  | FRAUD    | CREDIT CARD, THEFT BY USE OF            | Saturday  | 02/27/2016 | 12:00 | CENTRAL    | NONE           | 100 Block of MONTGOMERY ST | -122.402 | 37.7905 | (37.7905215969161, -122.40221854007)  | 16017175909320\n",
       "160170654  | FRAUD    | DEFRAUDING AN INNKEEPER                 | Saturday  | 02/27/2016 | 10:56 | RICHMOND   | ARREST, BOOKED | GEARY BL / 9TH AV          | -122.467 | 37.7809 | (37.7808779197338, -122.467489289466) | 16017065427010\n",
       "... (417 rows omitted)"
      ]
     },
     "execution_count": 44,
     "metadata": {},
     "output_type": "execute_result"
    }
   ],
   "source": [
    "# Examine data for more than one type of crime\n",
    "sfcrimes.where((sfcrimes['Category']=='BRIBERY') | (sfcrimes['Category']=='FRAUD'))"
   ]
  },
  {
   "cell_type": "markdown",
   "metadata": {},
   "source": [
    "### Question 10\n",
    "Select one crime category and create a subset of the SF crime data. Create a map of these data in the code cell below.\n"
   ]
  },
  {
   "cell_type": "code",
   "execution_count": 6,
   "metadata": {
    "collapsed": true
   },
   "outputs": [],
   "source": [
    "# Enter the code for your single category crime map below for Question 9\n"
   ]
  },
  {
   "cell_type": "markdown",
   "metadata": {},
   "source": [
    "### Question 11\n",
    "Discuss what your map for Question 10 tells you about the distribution and density of this crime category in SF. Do these types of crimes appear to be clustered in any specific part of the city?\n",
    "\n",
    "#### Double-click here to add your answer for Question 11."
   ]
  },
  {
   "cell_type": "markdown",
   "metadata": {},
   "source": [
    "### Question 12\n",
    "In the code cell below create a category map of the two crime categories ** DRUG/NARCOTIC** and **PROSTITION** to visualize their distribution in SF."
   ]
  },
  {
   "cell_type": "code",
   "execution_count": 7,
   "metadata": {
    "collapsed": true
   },
   "outputs": [],
   "source": [
    "# Enter your code for a two crime category map here for Question 12.."
   ]
  },
  {
   "cell_type": "markdown",
   "metadata": {},
   "source": [
    "### Question 13\n",
    "Discuss the map you made for Question 12. Does there appear to be any relationship between these two crime types? If yes, explain why you think so based on the map.\n",
    "\n",
    "#### Double-click here to add your answer for question 13."
   ]
  },
  {
   "cell_type": "markdown",
   "metadata": {},
   "source": [
    "### Question 14 - bonus - extra credit - optional\n",
    "Do you notice an area of the US in the 2016 that has a lot of earthquakes but where there were none in 1989? Can you do an online search and suggest why this may be so.\n",
    "\n",
    "#### Double-click here to input your answer to question 14."
   ]
  },
  {
   "cell_type": "code",
   "execution_count": null,
   "metadata": {
    "collapsed": true
   },
   "outputs": [],
   "source": []
  }
 ],
 "metadata": {
  "kernelspec": {
   "display_name": "Python 3",
   "language": "python",
   "name": "python3"
  },
  "language_info": {
   "codemirror_mode": {
    "name": "ipython",
    "version": 3
   },
   "file_extension": ".py",
   "mimetype": "text/x-python",
   "name": "python",
   "nbconvert_exporter": "python",
   "pygments_lexer": "ipython3",
   "version": "3.4.4"
  }
 },
 "nbformat": 4,
 "nbformat_minor": 0
}
